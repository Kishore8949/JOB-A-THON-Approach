{
 "cells": [
  {
   "cell_type": "markdown",
   "metadata": {
    "id": "4RiWINLDzwHZ"
   },
   "source": [
    "Import and required packages"
   ]
  },
  {
   "cell_type": "code",
   "execution_count": 150,
   "metadata": {
    "colab": {
     "base_uri": "https://localhost:8080/"
    },
    "id": "cPBuacsZHR56",
    "outputId": "41fe57a7-51a7-4787-d502-514bcbad4a89"
   },
   "outputs": [
    {
     "name": "stdout",
     "output_type": "stream",
     "text": [
      "Drive already mounted at /content/drive; to attempt to forcibly remount, call drive.mount(\"/content/drive\", force_remount=True).\n",
      "Requirement already satisfied: pycaret in /usr/local/lib/python3.7/dist-packages (2.3.5)\n",
      "Requirement already satisfied: IPython in /usr/local/lib/python3.7/dist-packages (from pycaret) (5.5.0)\n",
      "Requirement already satisfied: plotly>=4.4.1 in /usr/local/lib/python3.7/dist-packages (from pycaret) (4.4.1)\n",
      "Requirement already satisfied: pandas-profiling>=2.8.0 in /usr/local/lib/python3.7/dist-packages (from pycaret) (3.1.0)\n",
      "Requirement already satisfied: lightgbm>=2.3.1 in /usr/local/lib/python3.7/dist-packages (from pycaret) (3.3.1)\n",
      "Requirement already satisfied: nltk in /usr/local/lib/python3.7/dist-packages (from pycaret) (3.2.5)\n",
      "Requirement already satisfied: pandas in /usr/local/lib/python3.7/dist-packages (from pycaret) (1.1.5)\n",
      "Requirement already satisfied: matplotlib in /usr/local/lib/python3.7/dist-packages (from pycaret) (3.2.2)\n",
      "Requirement already satisfied: scikit-learn==0.23.2 in /usr/local/lib/python3.7/dist-packages (from pycaret) (0.23.2)\n",
      "Requirement already satisfied: gensim<4.0.0 in /usr/local/lib/python3.7/dist-packages (from pycaret) (3.6.0)\n",
      "Requirement already satisfied: spacy<2.4.0 in /usr/local/lib/python3.7/dist-packages (from pycaret) (2.2.4)\n",
      "Requirement already satisfied: ipywidgets in /usr/local/lib/python3.7/dist-packages (from pycaret) (7.6.5)\n",
      "Requirement already satisfied: imbalanced-learn==0.7.0 in /usr/local/lib/python3.7/dist-packages (from pycaret) (0.7.0)\n",
      "Requirement already satisfied: numpy==1.19.5 in /usr/local/lib/python3.7/dist-packages (from pycaret) (1.19.5)\n",
      "Requirement already satisfied: umap-learn in /usr/local/lib/python3.7/dist-packages (from pycaret) (0.5.2)\n",
      "Requirement already satisfied: textblob in /usr/local/lib/python3.7/dist-packages (from pycaret) (0.15.3)\n",
      "Requirement already satisfied: joblib in /usr/local/lib/python3.7/dist-packages (from pycaret) (1.0.1)\n",
      "Requirement already satisfied: Boruta in /usr/local/lib/python3.7/dist-packages (from pycaret) (0.3)\n",
      "Requirement already satisfied: mlflow in /usr/local/lib/python3.7/dist-packages (from pycaret) (1.21.0)\n",
      "Requirement already satisfied: seaborn in /usr/local/lib/python3.7/dist-packages (from pycaret) (0.11.2)\n",
      "Requirement already satisfied: cufflinks>=0.17.0 in /usr/local/lib/python3.7/dist-packages (from pycaret) (0.17.3)\n",
      "Requirement already satisfied: wordcloud in /usr/local/lib/python3.7/dist-packages (from pycaret) (1.5.0)\n",
      "Requirement already satisfied: mlxtend>=0.17.0 in /usr/local/lib/python3.7/dist-packages (from pycaret) (0.19.0)\n",
      "Requirement already satisfied: yellowbrick>=1.0.1 in /usr/local/lib/python3.7/dist-packages (from pycaret) (1.3.post1)\n",
      "Requirement already satisfied: scipy<=1.5.4 in /usr/local/lib/python3.7/dist-packages (from pycaret) (1.5.4)\n",
      "Requirement already satisfied: pyod in /usr/local/lib/python3.7/dist-packages (from pycaret) (0.9.5)\n",
      "Requirement already satisfied: scikit-plot in /usr/local/lib/python3.7/dist-packages (from pycaret) (0.3.7)\n",
      "Requirement already satisfied: kmodes>=0.10.1 in /usr/local/lib/python3.7/dist-packages (from pycaret) (0.11.1)\n",
      "Requirement already satisfied: pyLDAvis in /usr/local/lib/python3.7/dist-packages (from pycaret) (3.2.2)\n",
      "Requirement already satisfied: threadpoolctl>=2.0.0 in /usr/local/lib/python3.7/dist-packages (from scikit-learn==0.23.2->pycaret) (3.0.0)\n",
      "Requirement already satisfied: six>=1.9.0 in /usr/local/lib/python3.7/dist-packages (from cufflinks>=0.17.0->pycaret) (1.15.0)\n",
      "Requirement already satisfied: setuptools>=34.4.1 in /usr/local/lib/python3.7/dist-packages (from cufflinks>=0.17.0->pycaret) (57.4.0)\n",
      "Requirement already satisfied: colorlover>=0.2.1 in /usr/local/lib/python3.7/dist-packages (from cufflinks>=0.17.0->pycaret) (0.3.0)\n",
      "Requirement already satisfied: smart-open>=1.2.1 in /usr/local/lib/python3.7/dist-packages (from gensim<4.0.0->pycaret) (5.2.1)\n",
      "Requirement already satisfied: pickleshare in /usr/local/lib/python3.7/dist-packages (from IPython->pycaret) (0.7.5)\n",
      "Requirement already satisfied: pexpect in /usr/local/lib/python3.7/dist-packages (from IPython->pycaret) (4.8.0)\n",
      "Requirement already satisfied: pygments in /usr/local/lib/python3.7/dist-packages (from IPython->pycaret) (2.6.1)\n",
      "Requirement already satisfied: traitlets>=4.2 in /usr/local/lib/python3.7/dist-packages (from IPython->pycaret) (5.1.1)\n",
      "Requirement already satisfied: simplegeneric>0.8 in /usr/local/lib/python3.7/dist-packages (from IPython->pycaret) (0.8.1)\n",
      "Requirement already satisfied: decorator in /usr/local/lib/python3.7/dist-packages (from IPython->pycaret) (4.4.2)\n",
      "Requirement already satisfied: prompt-toolkit<2.0.0,>=1.0.4 in /usr/local/lib/python3.7/dist-packages (from IPython->pycaret) (1.0.18)\n",
      "Requirement already satisfied: widgetsnbextension~=3.5.0 in /usr/local/lib/python3.7/dist-packages (from ipywidgets->pycaret) (3.5.2)\n",
      "Requirement already satisfied: nbformat>=4.2.0 in /usr/local/lib/python3.7/dist-packages (from ipywidgets->pycaret) (5.1.3)\n",
      "Requirement already satisfied: ipython-genutils~=0.2.0 in /usr/local/lib/python3.7/dist-packages (from ipywidgets->pycaret) (0.2.0)\n",
      "Requirement already satisfied: ipykernel>=4.5.1 in /usr/local/lib/python3.7/dist-packages (from ipywidgets->pycaret) (4.10.1)\n",
      "Requirement already satisfied: jupyterlab-widgets>=1.0.0 in /usr/local/lib/python3.7/dist-packages (from ipywidgets->pycaret) (1.0.2)\n",
      "Requirement already satisfied: tornado>=4.0 in /usr/local/lib/python3.7/dist-packages (from ipykernel>=4.5.1->ipywidgets->pycaret) (5.1.1)\n",
      "Requirement already satisfied: jupyter-client in /usr/local/lib/python3.7/dist-packages (from ipykernel>=4.5.1->ipywidgets->pycaret) (5.3.5)\n",
      "Requirement already satisfied: wheel in /usr/local/lib/python3.7/dist-packages (from lightgbm>=2.3.1->pycaret) (0.37.0)\n",
      "Requirement already satisfied: python-dateutil>=2.1 in /usr/local/lib/python3.7/dist-packages (from matplotlib->pycaret) (2.8.2)\n",
      "Requirement already satisfied: pyparsing!=2.0.4,!=2.1.2,!=2.1.6,>=2.0.1 in /usr/local/lib/python3.7/dist-packages (from matplotlib->pycaret) (3.0.6)\n",
      "Requirement already satisfied: cycler>=0.10 in /usr/local/lib/python3.7/dist-packages (from matplotlib->pycaret) (0.11.0)\n",
      "Requirement already satisfied: kiwisolver>=1.0.1 in /usr/local/lib/python3.7/dist-packages (from matplotlib->pycaret) (1.3.2)\n",
      "Requirement already satisfied: jsonschema!=2.5.0,>=2.4 in /usr/local/lib/python3.7/dist-packages (from nbformat>=4.2.0->ipywidgets->pycaret) (2.6.0)\n",
      "Requirement already satisfied: jupyter-core in /usr/local/lib/python3.7/dist-packages (from nbformat>=4.2.0->ipywidgets->pycaret) (4.9.1)\n",
      "Requirement already satisfied: pytz>=2017.2 in /usr/local/lib/python3.7/dist-packages (from pandas->pycaret) (2018.9)\n",
      "Requirement already satisfied: PyYAML>=5.0.0 in /usr/local/lib/python3.7/dist-packages (from pandas-profiling>=2.8.0->pycaret) (6.0)\n",
      "Requirement already satisfied: visions[type_image_path]==0.7.4 in /usr/local/lib/python3.7/dist-packages (from pandas-profiling>=2.8.0->pycaret) (0.7.4)\n",
      "Requirement already satisfied: missingno>=0.4.2 in /usr/local/lib/python3.7/dist-packages (from pandas-profiling>=2.8.0->pycaret) (0.5.0)\n",
      "Requirement already satisfied: pydantic>=1.8.1 in /usr/local/lib/python3.7/dist-packages (from pandas-profiling>=2.8.0->pycaret) (1.8.2)\n",
      "Requirement already satisfied: multimethod>=1.4 in /usr/local/lib/python3.7/dist-packages (from pandas-profiling>=2.8.0->pycaret) (1.6)\n",
      "Requirement already satisfied: tangled-up-in-unicode==0.1.0 in /usr/local/lib/python3.7/dist-packages (from pandas-profiling>=2.8.0->pycaret) (0.1.0)\n",
      "Requirement already satisfied: requests>=2.24.0 in /usr/local/lib/python3.7/dist-packages (from pandas-profiling>=2.8.0->pycaret) (2.26.0)\n",
      "Requirement already satisfied: jinja2>=2.11.1 in /usr/local/lib/python3.7/dist-packages (from pandas-profiling>=2.8.0->pycaret) (2.11.3)\n",
      "Requirement already satisfied: htmlmin>=0.1.12 in /usr/local/lib/python3.7/dist-packages (from pandas-profiling>=2.8.0->pycaret) (0.1.12)\n",
      "Requirement already satisfied: phik>=0.11.1 in /usr/local/lib/python3.7/dist-packages (from pandas-profiling>=2.8.0->pycaret) (0.12.0)\n",
      "Requirement already satisfied: markupsafe~=2.0.1 in /usr/local/lib/python3.7/dist-packages (from pandas-profiling>=2.8.0->pycaret) (2.0.1)\n",
      "Requirement already satisfied: tqdm>=4.48.2 in /usr/local/lib/python3.7/dist-packages (from pandas-profiling>=2.8.0->pycaret) (4.62.3)\n",
      "Requirement already satisfied: attrs>=19.3.0 in /usr/local/lib/python3.7/dist-packages (from visions[type_image_path]==0.7.4->pandas-profiling>=2.8.0->pycaret) (21.2.0)\n",
      "Requirement already satisfied: networkx>=2.4 in /usr/local/lib/python3.7/dist-packages (from visions[type_image_path]==0.7.4->pandas-profiling>=2.8.0->pycaret) (2.6.3)\n",
      "Requirement already satisfied: Pillow in /usr/local/lib/python3.7/dist-packages (from visions[type_image_path]==0.7.4->pandas-profiling>=2.8.0->pycaret) (7.1.2)\n",
      "Requirement already satisfied: imagehash in /usr/local/lib/python3.7/dist-packages (from visions[type_image_path]==0.7.4->pandas-profiling>=2.8.0->pycaret) (4.2.1)\n",
      "Requirement already satisfied: retrying>=1.3.3 in /usr/local/lib/python3.7/dist-packages (from plotly>=4.4.1->pycaret) (1.3.3)\n",
      "Requirement already satisfied: wcwidth in /usr/local/lib/python3.7/dist-packages (from prompt-toolkit<2.0.0,>=1.0.4->IPython->pycaret) (0.2.5)\n",
      "Requirement already satisfied: typing-extensions>=3.7.4.3 in /usr/local/lib/python3.7/dist-packages (from pydantic>=1.8.1->pandas-profiling>=2.8.0->pycaret) (3.10.0.2)\n",
      "Requirement already satisfied: urllib3<1.27,>=1.21.1 in /usr/local/lib/python3.7/dist-packages (from requests>=2.24.0->pandas-profiling>=2.8.0->pycaret) (1.24.3)\n",
      "Requirement already satisfied: certifi>=2017.4.17 in /usr/local/lib/python3.7/dist-packages (from requests>=2.24.0->pandas-profiling>=2.8.0->pycaret) (2021.10.8)\n",
      "Requirement already satisfied: charset-normalizer~=2.0.0 in /usr/local/lib/python3.7/dist-packages (from requests>=2.24.0->pandas-profiling>=2.8.0->pycaret) (2.0.7)\n",
      "Requirement already satisfied: idna<4,>=2.5 in /usr/local/lib/python3.7/dist-packages (from requests>=2.24.0->pandas-profiling>=2.8.0->pycaret) (2.10)\n",
      "Requirement already satisfied: srsly<1.1.0,>=1.0.2 in /usr/local/lib/python3.7/dist-packages (from spacy<2.4.0->pycaret) (1.0.5)\n",
      "Requirement already satisfied: blis<0.5.0,>=0.4.0 in /usr/local/lib/python3.7/dist-packages (from spacy<2.4.0->pycaret) (0.4.1)\n",
      "Requirement already satisfied: thinc==7.4.0 in /usr/local/lib/python3.7/dist-packages (from spacy<2.4.0->pycaret) (7.4.0)\n",
      "Requirement already satisfied: preshed<3.1.0,>=3.0.2 in /usr/local/lib/python3.7/dist-packages (from spacy<2.4.0->pycaret) (3.0.6)\n",
      "Requirement already satisfied: cymem<2.1.0,>=2.0.2 in /usr/local/lib/python3.7/dist-packages (from spacy<2.4.0->pycaret) (2.0.6)\n",
      "Requirement already satisfied: catalogue<1.1.0,>=0.0.7 in /usr/local/lib/python3.7/dist-packages (from spacy<2.4.0->pycaret) (1.0.0)\n",
      "Requirement already satisfied: wasabi<1.1.0,>=0.4.0 in /usr/local/lib/python3.7/dist-packages (from spacy<2.4.0->pycaret) (0.8.2)\n",
      "Requirement already satisfied: murmurhash<1.1.0,>=0.28.0 in /usr/local/lib/python3.7/dist-packages (from spacy<2.4.0->pycaret) (1.0.6)\n",
      "Requirement already satisfied: plac<1.2.0,>=0.9.6 in /usr/local/lib/python3.7/dist-packages (from spacy<2.4.0->pycaret) (1.1.3)\n",
      "Requirement already satisfied: importlib-metadata>=0.20 in /usr/local/lib/python3.7/dist-packages (from catalogue<1.1.0,>=0.0.7->spacy<2.4.0->pycaret) (4.8.2)\n",
      "Requirement already satisfied: zipp>=0.5 in /usr/local/lib/python3.7/dist-packages (from importlib-metadata>=0.20->catalogue<1.1.0,>=0.0.7->spacy<2.4.0->pycaret) (3.6.0)\n",
      "Requirement already satisfied: notebook>=4.4.1 in /usr/local/lib/python3.7/dist-packages (from widgetsnbextension~=3.5.0->ipywidgets->pycaret) (5.3.1)\n",
      "Requirement already satisfied: nbconvert in /usr/local/lib/python3.7/dist-packages (from notebook>=4.4.1->widgetsnbextension~=3.5.0->ipywidgets->pycaret) (5.6.1)\n",
      "Requirement already satisfied: Send2Trash in /usr/local/lib/python3.7/dist-packages (from notebook>=4.4.1->widgetsnbextension~=3.5.0->ipywidgets->pycaret) (1.8.0)\n",
      "Requirement already satisfied: terminado>=0.8.1 in /usr/local/lib/python3.7/dist-packages (from notebook>=4.4.1->widgetsnbextension~=3.5.0->ipywidgets->pycaret) (0.12.1)\n",
      "Requirement already satisfied: pyzmq>=13 in /usr/local/lib/python3.7/dist-packages (from jupyter-client->ipykernel>=4.5.1->ipywidgets->pycaret) (22.3.0)\n",
      "Requirement already satisfied: ptyprocess in /usr/local/lib/python3.7/dist-packages (from terminado>=0.8.1->notebook>=4.4.1->widgetsnbextension~=3.5.0->ipywidgets->pycaret) (0.7.0)\n",
      "Requirement already satisfied: PyWavelets in /usr/local/lib/python3.7/dist-packages (from imagehash->visions[type_image_path]==0.7.4->pandas-profiling>=2.8.0->pycaret) (1.2.0)\n",
      "Requirement already satisfied: databricks-cli>=0.8.7 in /usr/local/lib/python3.7/dist-packages (from mlflow->pycaret) (0.16.2)\n",
      "Requirement already satisfied: docker>=4.0.0 in /usr/local/lib/python3.7/dist-packages (from mlflow->pycaret) (5.0.3)\n",
      "Requirement already satisfied: entrypoints in /usr/local/lib/python3.7/dist-packages (from mlflow->pycaret) (0.3)\n",
      "Requirement already satisfied: prometheus-flask-exporter in /usr/local/lib/python3.7/dist-packages (from mlflow->pycaret) (0.18.5)\n",
      "Requirement already satisfied: gitpython>=2.1.0 in /usr/local/lib/python3.7/dist-packages (from mlflow->pycaret) (3.1.24)\n",
      "Requirement already satisfied: cloudpickle in /usr/local/lib/python3.7/dist-packages (from mlflow->pycaret) (1.3.0)\n",
      "Requirement already satisfied: sqlparse>=0.3.1 in /usr/local/lib/python3.7/dist-packages (from mlflow->pycaret) (0.4.2)\n",
      "Requirement already satisfied: querystring-parser in /usr/local/lib/python3.7/dist-packages (from mlflow->pycaret) (1.2.4)\n",
      "Requirement already satisfied: packaging in /usr/local/lib/python3.7/dist-packages (from mlflow->pycaret) (21.3)\n",
      "Requirement already satisfied: sqlalchemy in /usr/local/lib/python3.7/dist-packages (from mlflow->pycaret) (1.4.27)\n",
      "Requirement already satisfied: gunicorn in /usr/local/lib/python3.7/dist-packages (from mlflow->pycaret) (20.1.0)\n",
      "Requirement already satisfied: Flask in /usr/local/lib/python3.7/dist-packages (from mlflow->pycaret) (1.1.4)\n",
      "Requirement already satisfied: alembic<=1.4.1 in /usr/local/lib/python3.7/dist-packages (from mlflow->pycaret) (1.4.1)\n",
      "Requirement already satisfied: click>=7.0 in /usr/local/lib/python3.7/dist-packages (from mlflow->pycaret) (7.1.2)\n",
      "Requirement already satisfied: protobuf>=3.7.0 in /usr/local/lib/python3.7/dist-packages (from mlflow->pycaret) (3.17.3)\n",
      "Requirement already satisfied: Mako in /usr/local/lib/python3.7/dist-packages (from alembic<=1.4.1->mlflow->pycaret) (1.1.6)\n",
      "Requirement already satisfied: python-editor>=0.3 in /usr/local/lib/python3.7/dist-packages (from alembic<=1.4.1->mlflow->pycaret) (1.0.4)\n",
      "Requirement already satisfied: tabulate>=0.7.7 in /usr/local/lib/python3.7/dist-packages (from databricks-cli>=0.8.7->mlflow->pycaret) (0.8.9)\n",
      "Requirement already satisfied: websocket-client>=0.32.0 in /usr/local/lib/python3.7/dist-packages (from docker>=4.0.0->mlflow->pycaret) (1.2.1)\n",
      "Requirement already satisfied: gitdb<5,>=4.0.1 in /usr/local/lib/python3.7/dist-packages (from gitpython>=2.1.0->mlflow->pycaret) (4.0.9)\n",
      "Requirement already satisfied: smmap<6,>=3.0.1 in /usr/local/lib/python3.7/dist-packages (from gitdb<5,>=4.0.1->gitpython>=2.1.0->mlflow->pycaret) (5.0.0)\n",
      "Requirement already satisfied: greenlet!=0.4.17 in /usr/local/lib/python3.7/dist-packages (from sqlalchemy->mlflow->pycaret) (1.1.2)\n",
      "Requirement already satisfied: Werkzeug<2.0,>=0.15 in /usr/local/lib/python3.7/dist-packages (from Flask->mlflow->pycaret) (1.0.1)\n",
      "Requirement already satisfied: itsdangerous<2.0,>=0.24 in /usr/local/lib/python3.7/dist-packages (from Flask->mlflow->pycaret) (1.1.0)\n",
      "Requirement already satisfied: pandocfilters>=1.4.1 in /usr/local/lib/python3.7/dist-packages (from nbconvert->notebook>=4.4.1->widgetsnbextension~=3.5.0->ipywidgets->pycaret) (1.5.0)\n",
      "Requirement already satisfied: bleach in /usr/local/lib/python3.7/dist-packages (from nbconvert->notebook>=4.4.1->widgetsnbextension~=3.5.0->ipywidgets->pycaret) (4.1.0)\n",
      "Requirement already satisfied: defusedxml in /usr/local/lib/python3.7/dist-packages (from nbconvert->notebook>=4.4.1->widgetsnbextension~=3.5.0->ipywidgets->pycaret) (0.7.1)\n",
      "Requirement already satisfied: mistune<2,>=0.8.1 in /usr/local/lib/python3.7/dist-packages (from nbconvert->notebook>=4.4.1->widgetsnbextension~=3.5.0->ipywidgets->pycaret) (0.8.4)\n",
      "Requirement already satisfied: testpath in /usr/local/lib/python3.7/dist-packages (from nbconvert->notebook>=4.4.1->widgetsnbextension~=3.5.0->ipywidgets->pycaret) (0.5.0)\n",
      "Requirement already satisfied: webencodings in /usr/local/lib/python3.7/dist-packages (from bleach->nbconvert->notebook>=4.4.1->widgetsnbextension~=3.5.0->ipywidgets->pycaret) (0.5.1)\n",
      "Requirement already satisfied: prometheus-client in /usr/local/lib/python3.7/dist-packages (from prometheus-flask-exporter->mlflow->pycaret) (0.12.0)\n",
      "Requirement already satisfied: funcy in /usr/local/lib/python3.7/dist-packages (from pyLDAvis->pycaret) (1.16)\n",
      "Requirement already satisfied: future in /usr/local/lib/python3.7/dist-packages (from pyLDAvis->pycaret) (0.16.0)\n",
      "Requirement already satisfied: numexpr in /usr/local/lib/python3.7/dist-packages (from pyLDAvis->pycaret) (2.7.3)\n",
      "Requirement already satisfied: numba>=0.35 in /usr/local/lib/python3.7/dist-packages (from pyod->pycaret) (0.51.2)\n",
      "Requirement already satisfied: statsmodels in /usr/local/lib/python3.7/dist-packages (from pyod->pycaret) (0.10.2)\n",
      "Requirement already satisfied: llvmlite<0.35,>=0.34.0.dev0 in /usr/local/lib/python3.7/dist-packages (from numba>=0.35->pyod->pycaret) (0.34.0)\n",
      "Requirement already satisfied: patsy>=0.4.0 in /usr/local/lib/python3.7/dist-packages (from statsmodels->pyod->pycaret) (0.5.2)\n",
      "Requirement already satisfied: pynndescent>=0.5 in /usr/local/lib/python3.7/dist-packages (from umap-learn->pycaret) (0.5.5)\n"
     ]
    }
   ],
   "source": [
    "from google.colab import drive\n",
    "drive.mount('/content/drive')\n",
    "!pip install pycaret\n",
    "import pandas as pd\n",
    "import numpy as np"
   ]
  },
  {
   "cell_type": "code",
   "execution_count": 151,
   "metadata": {
    "id": "aaIfmb-jHT-F"
   },
   "outputs": [],
   "source": [
    "employeedata=pd.read_excel('/content/drive/MyDrive/Job A thon/train_MpHjUjU.xlsx')"
   ]
  },
  {
   "cell_type": "markdown",
   "metadata": {
    "id": "2kvWP_xwOnQ-"
   },
   "source": [
    "Checking parameters null and categories"
   ]
  },
  {
   "cell_type": "code",
   "execution_count": 152,
   "metadata": {
    "id": "tpSEUvyqO3k5"
   },
   "outputs": [],
   "source": [
    "#import modules\n",
    "import pandas  # for dataframes\n",
    "import matplotlib.pyplot as plt # for plotting graphs\n",
    "import seaborn as sns # for plotting graphs\n",
    "% matplotlib inline"
   ]
  },
  {
   "cell_type": "code",
   "execution_count": 153,
   "metadata": {
    "colab": {
     "base_uri": "https://localhost:8080/"
    },
    "id": "AQ64NoqOm4DD",
    "outputId": "3054df4e-db7a-4890-fb3b-eb4e7351b5ae"
   },
   "outputs": [
    {
     "name": "stdout",
     "output_type": "stream",
     "text": [
      "<class 'pandas.core.frame.DataFrame'>\n",
      "RangeIndex: 19104 entries, 0 to 19103\n",
      "Data columns (total 13 columns):\n",
      " #   Column                Non-Null Count  Dtype         \n",
      "---  ------                --------------  -----         \n",
      " 0   MMM-YY                19104 non-null  datetime64[ns]\n",
      " 1   Emp_ID                19104 non-null  int64         \n",
      " 2   Age                   19104 non-null  int64         \n",
      " 3   Gender                19104 non-null  object        \n",
      " 4   City                  19104 non-null  object        \n",
      " 5   Education_Level       19104 non-null  object        \n",
      " 6   Salary                19104 non-null  int64         \n",
      " 7   Dateofjoining         19104 non-null  datetime64[ns]\n",
      " 8   LastWorkingDate       1616 non-null   datetime64[ns]\n",
      " 9   Joining Designation   19104 non-null  int64         \n",
      " 10  Designation           19104 non-null  int64         \n",
      " 11  Total Business Value  19104 non-null  int64         \n",
      " 12  Quarterly Rating      19104 non-null  int64         \n",
      "dtypes: datetime64[ns](3), int64(7), object(3)\n",
      "memory usage: 1.9+ MB\n"
     ]
    }
   ],
   "source": [
    "employeedata.info()"
   ]
  },
  {
   "cell_type": "code",
   "execution_count": 154,
   "metadata": {
    "colab": {
     "base_uri": "https://localhost:8080/"
    },
    "id": "hUvhLuganHUQ",
    "outputId": "a6adfed1-2025-4049-b1c1-41422f6e40c2"
   },
   "outputs": [
    {
     "data": {
      "text/plain": [
       "count                   19104\n",
       "unique                     24\n",
       "top       2016-01-01 00:00:00\n",
       "freq                     1022\n",
       "first     2016-01-01 00:00:00\n",
       "last      2017-12-01 00:00:00\n",
       "Name: MMM-YY, dtype: object"
      ]
     },
     "execution_count": 154,
     "metadata": {},
     "output_type": "execute_result"
    }
   ],
   "source": [
    "employeedata['MMM-YY'].describe()"
   ]
  },
  {
   "cell_type": "markdown",
   "metadata": {
    "id": "c10k4Kc40wdA"
   },
   "source": [
    "Feature Engineering"
   ]
  },
  {
   "cell_type": "code",
   "execution_count": 155,
   "metadata": {
    "id": "Xg53GDH_xYU5"
   },
   "outputs": [],
   "source": [
    "uniqueemployeesdata= employeedata[['Emp_ID', 'Age', 'Gender', 'City', 'Education_Level',\n",
    "       'Salary', 'Dateofjoining', 'Joining Designation',\n",
    "       'Designation']].drop_duplicates()"
   ]
  },
  {
   "cell_type": "markdown",
   "metadata": {
    "id": "KxpZxYTZ014Z"
   },
   "source": [
    "Getting Target column set"
   ]
  },
  {
   "cell_type": "code",
   "execution_count": 156,
   "metadata": {
    "id": "7q6cOCx7xcSD"
   },
   "outputs": [],
   "source": [
    "employeeswholeft=employeedata[~employeedata['LastWorkingDate'].isna()]\n",
    "employeeswholeft['Y']=0\n",
    "uniqueemployeesdata=uniqueemployeesdata.merge(employeeswholeft[['Emp_ID','Y']],on='Emp_ID',how='left')\n",
    "uniqueemployeesdata['Y']=uniqueemployeesdata['Y'].fillna(1)"
   ]
  },
  {
   "cell_type": "markdown",
   "metadata": {
    "id": "v6KJQjUS0_so"
   },
   "source": [
    "Time with company"
   ]
  },
  {
   "cell_type": "code",
   "execution_count": 157,
   "metadata": {
    "id": "gl4XBvzUnVsz"
   },
   "outputs": [],
   "source": [
    "employeeage=employeedata.groupby('Emp_ID').count()['City']\n",
    "employeeage=employeeage.reset_index()\n",
    "employeeage.columns=['Emp_ID','Periodwithus']\n",
    "uniqueemployeesdata=uniqueemployeesdata.merge(employeeage,on='Emp_ID',how='left')"
   ]
  },
  {
   "cell_type": "markdown",
   "metadata": {
    "id": "4MzlVhGX1Dd9"
   },
   "source": [
    "Average business done each month and Rating"
   ]
  },
  {
   "cell_type": "code",
   "execution_count": 158,
   "metadata": {
    "id": "t-rrQB_77F8r"
   },
   "outputs": [],
   "source": [
    "uniqueemployeesdata= uniqueemployeesdata.merge(pd.pivot_table(employeedata,index='Emp_ID',values=['Total Business Value','Quarterly Rating'],aggfunc='mean').reset_index(),on='Emp_ID',how='left')"
   ]
  },
  {
   "cell_type": "markdown",
   "metadata": {
    "id": "65mMM36G1Jcr"
   },
   "source": [
    "Times business done"
   ]
  },
  {
   "cell_type": "code",
   "execution_count": 159,
   "metadata": {
    "id": "wUASJFyGUBL4"
   },
   "outputs": [],
   "source": [
    "uniqueemployeesdata['timesbusinessdone']=uniqueemployeesdata['Total Business Value']/uniqueemployeesdata['Salary']"
   ]
  },
  {
   "cell_type": "markdown",
   "metadata": {
    "id": "rAJH7nx31RV5"
   },
   "source": [
    "reversals happened for employees"
   ]
  },
  {
   "cell_type": "code",
   "execution_count": 160,
   "metadata": {
    "id": "HaYUMSLcZhoR"
   },
   "outputs": [],
   "source": [
    "reversals = employeedata[employeedata['Total Business Value']<0]\n",
    "reversals['reversal']=1\n",
    "uniqueemployeesdata=uniqueemployeesdata.merge(reversals[['Emp_ID','reversal']].drop_duplicates(),on='Emp_ID',how='left')\n",
    "uniqueemployeesdata['reversal']=uniqueemployeesdata['reversal'].fillna(0)"
   ]
  },
  {
   "cell_type": "markdown",
   "metadata": {
    "id": "AtwxnzCA1cSo"
   },
   "source": [
    "zero business count"
   ]
  },
  {
   "cell_type": "code",
   "execution_count": 161,
   "metadata": {
    "id": "_pNuZqqsctjK"
   },
   "outputs": [],
   "source": [
    "zeroperformance = employeedata[employeedata['Total Business Value']==0]\n",
    "zeroperformance=zeroperformance.groupby('Emp_ID').count()['Age'].reset_index()\n",
    "zeroperformance.columns=['Emp_ID','zeroperformance']\n",
    "uniqueemployeesdata=uniqueemployeesdata.merge(zeroperformance.drop_duplicates(),on='Emp_ID',how='left')"
   ]
  },
  {
   "cell_type": "markdown",
   "metadata": {
    "id": "FMhode9cfx29"
   },
   "source": [
    "Months when coverage less than salary"
   ]
  },
  {
   "cell_type": "code",
   "execution_count": 162,
   "metadata": {
    "id": "RS_BQ0n9f1Xp"
   },
   "outputs": [],
   "source": [
    "employeedata['timesbusiness']=employeedata['Total Business Value']/employeedata['Salary']\n",
    "businesslesscoverage = employeedata[employeedata['timesbusiness']<1]\n",
    "businesslesscoverage=businesslesscoverage.groupby('Emp_ID').count()['Age'].reset_index()\n",
    "businesslesscoverage.columns=['Emp_ID','Businesslessthansalary']\n",
    "uniqueemployeesdata=uniqueemployeesdata.merge(businesslesscoverage[['Emp_ID','Businesslessthansalary']].drop_duplicates(),on='Emp_ID',how='left')\n",
    "uniqueemployeesdata['Businesslessthansalary']=uniqueemployeesdata['Businesslessthansalary'].fillna(0)"
   ]
  },
  {
   "cell_type": "markdown",
   "metadata": {
    "id": "J3Q7uchIjMB0"
   },
   "source": [
    "Designation change"
   ]
  },
  {
   "cell_type": "code",
   "execution_count": 163,
   "metadata": {
    "id": "hw5pzFDejN_A"
   },
   "outputs": [],
   "source": [
    "changedesignation=employeedata[employeedata['Joining Designation']!=employeedata['Designation']]\n",
    "changedesignation['changedesignation']=1\n",
    "changedesignation=changedesignation[['Emp_ID','changedesignation']].drop_duplicates()\n",
    "uniqueemployeesdata=uniqueemployeesdata.merge(changedesignation[['Emp_ID','changedesignation']].drop_duplicates(),on='Emp_ID',how='left')\n",
    "uniqueemployeesdata['changedesignation']=uniqueemployeesdata['changedesignation'].fillna(0)"
   ]
  },
  {
   "cell_type": "markdown",
   "metadata": {
    "id": "y9ij8xfW15il"
   },
   "source": [
    "Last rating before leaving"
   ]
  },
  {
   "cell_type": "code",
   "execution_count": 164,
   "metadata": {
    "id": "NNQo2d_GnzVi"
   },
   "outputs": [],
   "source": [
    "lastrating= employeedata[['Emp_ID','Quarterly Rating']].drop_duplicates( subset='Emp_ID',keep='last')\n",
    "lastrating.columns=['Emp_ID','Last Rating']\n",
    "uniqueemployeesdata=uniqueemployeesdata.merge(lastrating,on='Emp_ID',how='left')"
   ]
  },
  {
   "cell_type": "markdown",
   "metadata": {
    "id": "wDwR-IOO19n9"
   },
   "source": [
    "Checking correlation "
   ]
  },
  {
   "cell_type": "code",
   "execution_count": 165,
   "metadata": {
    "colab": {
     "base_uri": "https://localhost:8080/",
     "height": 571
    },
    "id": "LG3l3QZZZO-A",
    "outputId": "cee58005-e133-4f02-d96d-710ead0d3c05"
   },
   "outputs": [
    {
     "data": {
      "text/plain": [
       "<matplotlib.axes._subplots.AxesSubplot at 0x7f71a57d0bd0>"
      ]
     },
     "execution_count": 165,
     "metadata": {},
     "output_type": "execute_result"
    },
    {
     "data": {
      "image/png": "[encoded data removed]",
      "text/plain": [
       "<Figure size 1080x540 with 2 Axes>"
      ]
     },
     "metadata": {
      "needs_background": "light"
     },
     "output_type": "display_data"
    }
   ],
   "source": [
    "plt.figure(figsize=(15,7.5))\n",
    "uniqueemployeesdata=uniqueemployeesdata[['Emp_ID', 'Age', 'City', 'Education_Level', 'Salary', 'Dateofjoining',\n",
    "       'Joining Designation', 'Designation', 'Quarterly Rating',\n",
    "       'Total Business Value', 'Gender',\n",
    "       'timesbusinessdone','reversal','zeroperformance','Businesslessthansalary','changedesignation','Last Rating','Periodwithus','Y']]\n",
    "df4_corr=uniqueemployeesdata.corr()\n",
    "sns.heatmap(df4_corr,annot=True)"
   ]
  },
  {
   "cell_type": "markdown",
   "metadata": {
    "id": "122ot1g82BWX"
   },
   "source": [
    "Model Building"
   ]
  },
  {
   "cell_type": "code",
   "execution_count": 166,
   "metadata": {
    "colab": {
     "base_uri": "https://localhost:8080/",
     "height": 1000,
     "referenced_widgets": [
      "09369f7cbf274162bee0bebfe4bd36af",
      "64a9d89d9fcd4dea9b69baf5176e0bd2",
      "043b6c35aa454a60a4ca434141213992",
      "ee5e520dd05c4f3d97857d3e10fdef19",
      "bf2d50e8056542fa9d022905f2ab73fc",
      "ccddecea48ec4394a9ee2f9b70deaec4"
     ]
    },
    "id": "QEg_guLs239O",
    "outputId": "c91aa008-e0b7-4361-d75f-0b8eb87f52a6"
   },
   "outputs": [
    {
     "data": {
      "text/html": [
       "<div>\n",
       "<style scoped>\n",
       "    .dataframe tbody tr th:only-of-type {\n",
       "        vertical-align: middle;\n",
       "    }\n",
       "\n",
       "    .dataframe tbody tr th {\n",
       "        vertical-align: top;\n",
       "    }\n",
       "\n",
       "    .dataframe thead th {\n",
       "        text-align: right;\n",
       "    }\n",
       "</style>\n",
       "<table border=\"1\" class=\"dataframe\">\n",
       "  <thead>\n",
       "    <tr style=\"text-align: right;\">\n",
       "      <th></th>\n",
       "      <th>Description</th>\n",
       "      <th>Value</th>\n",
       "    </tr>\n",
       "  </thead>\n",
       "  <tbody>\n",
       "    <tr>\n",
       "      <th>0</th>\n",
       "      <td>session_id</td>\n",
       "      <td>6647</td>\n",
       "    </tr>\n",
       "    <tr>\n",
       "      <th>1</th>\n",
       "      <td>Target</td>\n",
       "      <td>Y</td>\n",
       "    </tr>\n",
       "    <tr>\n",
       "      <th>2</th>\n",
       "      <td>Target Type</td>\n",
       "      <td>Binary</td>\n",
       "    </tr>\n",
       "    <tr>\n",
       "      <th>3</th>\n",
       "      <td>Label Encoded</td>\n",
       "      <td>0.0: 0, 1.0: 1</td>\n",
       "    </tr>\n",
       "    <tr>\n",
       "      <th>4</th>\n",
       "      <td>Original Data</td>\n",
       "      <td>(3786, 19)</td>\n",
       "    </tr>\n",
       "    <tr>\n",
       "      <th>5</th>\n",
       "      <td>Missing Values</td>\n",
       "      <td>True</td>\n",
       "    </tr>\n",
       "    <tr>\n",
       "      <th>6</th>\n",
       "      <td>Numeric Features</td>\n",
       "      <td>7</td>\n",
       "    </tr>\n",
       "    <tr>\n",
       "      <th>7</th>\n",
       "      <td>Categorical Features</td>\n",
       "      <td>9</td>\n",
       "    </tr>\n",
       "    <tr>\n",
       "      <th>8</th>\n",
       "      <td>Ordinal Features</td>\n",
       "      <td>False</td>\n",
       "    </tr>\n",
       "    <tr>\n",
       "      <th>9</th>\n",
       "      <td>High Cardinality Features</td>\n",
       "      <td>False</td>\n",
       "    </tr>\n",
       "    <tr>\n",
       "      <th>10</th>\n",
       "      <td>High Cardinality Method</td>\n",
       "      <td>None</td>\n",
       "    </tr>\n",
       "    <tr>\n",
       "      <th>11</th>\n",
       "      <td>Transformed Train Set</td>\n",
       "      <td>(2650, 71)</td>\n",
       "    </tr>\n",
       "    <tr>\n",
       "      <th>12</th>\n",
       "      <td>Transformed Test Set</td>\n",
       "      <td>(1136, 71)</td>\n",
       "    </tr>\n",
       "    <tr>\n",
       "      <th>13</th>\n",
       "      <td>Shuffle Train-Test</td>\n",
       "      <td>True</td>\n",
       "    </tr>\n",
       "    <tr>\n",
       "      <th>14</th>\n",
       "      <td>Stratify Train-Test</td>\n",
       "      <td>False</td>\n",
       "    </tr>\n",
       "    <tr>\n",
       "      <th>15</th>\n",
       "      <td>Fold Generator</td>\n",
       "      <td>StratifiedKFold</td>\n",
       "    </tr>\n",
       "    <tr>\n",
       "      <th>16</th>\n",
       "      <td>Fold Number</td>\n",
       "      <td>10</td>\n",
       "    </tr>\n",
       "    <tr>\n",
       "      <th>17</th>\n",
       "      <td>CPU Jobs</td>\n",
       "      <td>-1</td>\n",
       "    </tr>\n",
       "    <tr>\n",
       "      <th>18</th>\n",
       "      <td>Use GPU</td>\n",
       "      <td>False</td>\n",
       "    </tr>\n",
       "    <tr>\n",
       "      <th>19</th>\n",
       "      <td>Log Experiment</td>\n",
       "      <td>False</td>\n",
       "    </tr>\n",
       "    <tr>\n",
       "      <th>20</th>\n",
       "      <td>Experiment Name</td>\n",
       "      <td>clf-default-name</td>\n",
       "    </tr>\n",
       "    <tr>\n",
       "      <th>21</th>\n",
       "      <td>USI</td>\n",
       "      <td>d98f</td>\n",
       "    </tr>\n",
       "    <tr>\n",
       "      <th>22</th>\n",
       "      <td>Imputation Type</td>\n",
       "      <td>simple</td>\n",
       "    </tr>\n",
       "    <tr>\n",
       "      <th>23</th>\n",
       "      <td>Iterative Imputation Iteration</td>\n",
       "      <td>None</td>\n",
       "    </tr>\n",
       "    <tr>\n",
       "      <th>24</th>\n",
       "      <td>Numeric Imputer</td>\n",
       "      <td>mean</td>\n",
       "    </tr>\n",
       "    <tr>\n",
       "      <th>25</th>\n",
       "      <td>Iterative Imputation Numeric Model</td>\n",
       "      <td>None</td>\n",
       "    </tr>\n",
       "    <tr>\n",
       "      <th>26</th>\n",
       "      <td>Categorical Imputer</td>\n",
       "      <td>constant</td>\n",
       "    </tr>\n",
       "    <tr>\n",
       "      <th>27</th>\n",
       "      <td>Iterative Imputation Categorical Model</td>\n",
       "      <td>None</td>\n",
       "    </tr>\n",
       "    <tr>\n",
       "      <th>28</th>\n",
       "      <td>Unknown Categoricals Handling</td>\n",
       "      <td>least_frequent</td>\n",
       "    </tr>\n",
       "    <tr>\n",
       "      <th>29</th>\n",
       "      <td>Normalize</td>\n",
       "      <td>False</td>\n",
       "    </tr>\n",
       "    <tr>\n",
       "      <th>30</th>\n",
       "      <td>Normalize Method</td>\n",
       "      <td>None</td>\n",
       "    </tr>\n",
       "    <tr>\n",
       "      <th>31</th>\n",
       "      <td>Transformation</td>\n",
       "      <td>False</td>\n",
       "    </tr>\n",
       "    <tr>\n",
       "      <th>32</th>\n",
       "      <td>Transformation Method</td>\n",
       "      <td>None</td>\n",
       "    </tr>\n",
       "    <tr>\n",
       "      <th>33</th>\n",
       "      <td>PCA</td>\n",
       "      <td>False</td>\n",
       "    </tr>\n",
       "    <tr>\n",
       "      <th>34</th>\n",
       "      <td>PCA Method</td>\n",
       "      <td>None</td>\n",
       "    </tr>\n",
       "    <tr>\n",
       "      <th>35</th>\n",
       "      <td>PCA Components</td>\n",
       "      <td>None</td>\n",
       "    </tr>\n",
       "    <tr>\n",
       "      <th>36</th>\n",
       "      <td>Ignore Low Variance</td>\n",
       "      <td>False</td>\n",
       "    </tr>\n",
       "    <tr>\n",
       "      <th>37</th>\n",
       "      <td>Combine Rare Levels</td>\n",
       "      <td>False</td>\n",
       "    </tr>\n",
       "    <tr>\n",
       "      <th>38</th>\n",
       "      <td>Rare Level Threshold</td>\n",
       "      <td>None</td>\n",
       "    </tr>\n",
       "    <tr>\n",
       "      <th>39</th>\n",
       "      <td>Numeric Binning</td>\n",
       "      <td>False</td>\n",
       "    </tr>\n",
       "    <tr>\n",
       "      <th>40</th>\n",
       "      <td>Remove Outliers</td>\n",
       "      <td>False</td>\n",
       "    </tr>\n",
       "    <tr>\n",
       "      <th>41</th>\n",
       "      <td>Outliers Threshold</td>\n",
       "      <td>None</td>\n",
       "    </tr>\n",
       "    <tr>\n",
       "      <th>42</th>\n",
       "      <td>Remove Multicollinearity</td>\n",
       "      <td>False</td>\n",
       "    </tr>\n",
       "    <tr>\n",
       "      <th>43</th>\n",
       "      <td>Multicollinearity Threshold</td>\n",
       "      <td>None</td>\n",
       "    </tr>\n",
       "    <tr>\n",
       "      <th>44</th>\n",
       "      <td>Remove Perfect Collinearity</td>\n",
       "      <td>True</td>\n",
       "    </tr>\n",
       "    <tr>\n",
       "      <th>45</th>\n",
       "      <td>Clustering</td>\n",
       "      <td>False</td>\n",
       "    </tr>\n",
       "    <tr>\n",
       "      <th>46</th>\n",
       "      <td>Clustering Iteration</td>\n",
       "      <td>None</td>\n",
       "    </tr>\n",
       "    <tr>\n",
       "      <th>47</th>\n",
       "      <td>Polynomial Features</td>\n",
       "      <td>False</td>\n",
       "    </tr>\n",
       "    <tr>\n",
       "      <th>48</th>\n",
       "      <td>Polynomial Degree</td>\n",
       "      <td>None</td>\n",
       "    </tr>\n",
       "    <tr>\n",
       "      <th>49</th>\n",
       "      <td>Trignometry Features</td>\n",
       "      <td>False</td>\n",
       "    </tr>\n",
       "    <tr>\n",
       "      <th>50</th>\n",
       "      <td>Polynomial Threshold</td>\n",
       "      <td>None</td>\n",
       "    </tr>\n",
       "    <tr>\n",
       "      <th>51</th>\n",
       "      <td>Group Features</td>\n",
       "      <td>False</td>\n",
       "    </tr>\n",
       "    <tr>\n",
       "      <th>52</th>\n",
       "      <td>Feature Selection</td>\n",
       "      <td>False</td>\n",
       "    </tr>\n",
       "    <tr>\n",
       "      <th>53</th>\n",
       "      <td>Feature Selection Method</td>\n",
       "      <td>classic</td>\n",
       "    </tr>\n",
       "    <tr>\n",
       "      <th>54</th>\n",
       "      <td>Features Selection Threshold</td>\n",
       "      <td>None</td>\n",
       "    </tr>\n",
       "    <tr>\n",
       "      <th>55</th>\n",
       "      <td>Feature Interaction</td>\n",
       "      <td>False</td>\n",
       "    </tr>\n",
       "    <tr>\n",
       "      <th>56</th>\n",
       "      <td>Feature Ratio</td>\n",
       "      <td>False</td>\n",
       "    </tr>\n",
       "    <tr>\n",
       "      <th>57</th>\n",
       "      <td>Interaction Threshold</td>\n",
       "      <td>None</td>\n",
       "    </tr>\n",
       "    <tr>\n",
       "      <th>58</th>\n",
       "      <td>Fix Imbalance</td>\n",
       "      <td>False</td>\n",
       "    </tr>\n",
       "    <tr>\n",
       "      <th>59</th>\n",
       "      <td>Fix Imbalance Method</td>\n",
       "      <td>SMOTE</td>\n",
       "    </tr>\n",
       "  </tbody>\n",
       "</table>\n",
       "</div>"
      ],
      "text/plain": [
       "                               Description             Value\n",
       "0                               session_id              6647\n",
       "1                                   Target                 Y\n",
       "2                              Target Type            Binary\n",
       "3                            Label Encoded    0.0: 0, 1.0: 1\n",
       "4                            Original Data        (3786, 19)\n",
       "5                           Missing Values              True\n",
       "6                         Numeric Features                 7\n",
       "7                     Categorical Features                 9\n",
       "8                         Ordinal Features             False\n",
       "9                High Cardinality Features             False\n",
       "10                 High Cardinality Method              None\n",
       "11                   Transformed Train Set        (2650, 71)\n",
       "12                    Transformed Test Set        (1136, 71)\n",
       "13                      Shuffle Train-Test              True\n",
       "14                     Stratify Train-Test             False\n",
       "15                          Fold Generator   StratifiedKFold\n",
       "16                             Fold Number                10\n",
       "17                                CPU Jobs                -1\n",
       "18                                 Use GPU             False\n",
       "19                          Log Experiment             False\n",
       "20                         Experiment Name  clf-default-name\n",
       "21                                     USI              d98f\n",
       "22                         Imputation Type            simple\n",
       "23          Iterative Imputation Iteration              None\n",
       "24                         Numeric Imputer              mean\n",
       "25      Iterative Imputation Numeric Model              None\n",
       "26                     Categorical Imputer          constant\n",
       "27  Iterative Imputation Categorical Model              None\n",
       "28           Unknown Categoricals Handling    least_frequent\n",
       "29                               Normalize             False\n",
       "30                        Normalize Method              None\n",
       "31                          Transformation             False\n",
       "32                   Transformation Method              None\n",
       "33                                     PCA             False\n",
       "34                              PCA Method              None\n",
       "35                          PCA Components              None\n",
       "36                     Ignore Low Variance             False\n",
       "37                     Combine Rare Levels             False\n",
       "38                    Rare Level Threshold              None\n",
       "39                         Numeric Binning             False\n",
       "40                         Remove Outliers             False\n",
       "41                      Outliers Threshold              None\n",
       "42                Remove Multicollinearity             False\n",
       "43             Multicollinearity Threshold              None\n",
       "44             Remove Perfect Collinearity              True\n",
       "45                              Clustering             False\n",
       "46                    Clustering Iteration              None\n",
       "47                     Polynomial Features             False\n",
       "48                       Polynomial Degree              None\n",
       "49                    Trignometry Features             False\n",
       "50                    Polynomial Threshold              None\n",
       "51                          Group Features             False\n",
       "52                       Feature Selection             False\n",
       "53                Feature Selection Method           classic\n",
       "54            Features Selection Threshold              None\n",
       "55                     Feature Interaction             False\n",
       "56                           Feature Ratio             False\n",
       "57                   Interaction Threshold              None\n",
       "58                           Fix Imbalance             False\n",
       "59                    Fix Imbalance Method             SMOTE"
      ]
     },
     "metadata": {},
     "output_type": "display_data"
    }
   ],
   "source": [
    "from pycaret.classification import *\n",
    "s = setup(uniqueemployeesdata, target = 'Y', ignore_features = ['Emp_ID','Dateofjoining'])"
   ]
  },
  {
   "cell_type": "markdown",
   "metadata": {
    "id": "23a_twVm2FuR"
   },
   "source": [
    "Model performance"
   ]
  },
  {
   "cell_type": "code",
   "execution_count": 167,
   "metadata": {
    "colab": {
     "base_uri": "https://localhost:8080/",
     "height": 483,
     "referenced_widgets": [
      "b9942e7eb43e4fe5a421b4fe85187dfd",
      "3a577e71ada842d8b0385dc48984a1d9",
      "42bb0d3830e9453cb90b0566887381e6"
     ]
    },
    "id": "18o-uu2c4iRB",
    "outputId": "549aad3b-59a7-478a-d216-8302dc0c19a5"
   },
   "outputs": [
    {
     "data": {
      "text/html": [
       "<div>\n",
       "<style scoped>\n",
       "    .dataframe tbody tr th:only-of-type {\n",
       "        vertical-align: middle;\n",
       "    }\n",
       "\n",
       "    .dataframe tbody tr th {\n",
       "        vertical-align: top;\n",
       "    }\n",
       "\n",
       "    .dataframe thead th {\n",
       "        text-align: right;\n",
       "    }\n",
       "</style>\n",
       "<table border=\"1\" class=\"dataframe\">\n",
       "  <thead>\n",
       "    <tr style=\"text-align: right;\">\n",
       "      <th></th>\n",
       "      <th>Model</th>\n",
       "      <th>Accuracy</th>\n",
       "      <th>AUC</th>\n",
       "      <th>Recall</th>\n",
       "      <th>Prec.</th>\n",
       "      <th>F1</th>\n",
       "      <th>Kappa</th>\n",
       "      <th>MCC</th>\n",
       "      <th>TT (Sec)</th>\n",
       "    </tr>\n",
       "  </thead>\n",
       "  <tbody>\n",
       "    <tr>\n",
       "      <th>et</th>\n",
       "      <td>Extra Trees Classifier</td>\n",
       "      <td>0.8921</td>\n",
       "      <td>0.9528</td>\n",
       "      <td>0.8273</td>\n",
       "      <td>0.8849</td>\n",
       "      <td>0.8548</td>\n",
       "      <td>0.7691</td>\n",
       "      <td>0.7706</td>\n",
       "      <td>0.618</td>\n",
       "    </tr>\n",
       "    <tr>\n",
       "      <th>rf</th>\n",
       "      <td>Random Forest Classifier</td>\n",
       "      <td>0.9072</td>\n",
       "      <td>0.9496</td>\n",
       "      <td>0.8322</td>\n",
       "      <td>0.9187</td>\n",
       "      <td>0.8730</td>\n",
       "      <td>0.8002</td>\n",
       "      <td>0.8029</td>\n",
       "      <td>0.661</td>\n",
       "    </tr>\n",
       "    <tr>\n",
       "      <th>lightgbm</th>\n",
       "      <td>Light Gradient Boosting Machine</td>\n",
       "      <td>0.8928</td>\n",
       "      <td>0.9442</td>\n",
       "      <td>0.8106</td>\n",
       "      <td>0.9010</td>\n",
       "      <td>0.8529</td>\n",
       "      <td>0.7691</td>\n",
       "      <td>0.7722</td>\n",
       "      <td>0.147</td>\n",
       "    </tr>\n",
       "    <tr>\n",
       "      <th>gbc</th>\n",
       "      <td>Gradient Boosting Classifier</td>\n",
       "      <td>0.8604</td>\n",
       "      <td>0.9241</td>\n",
       "      <td>0.7478</td>\n",
       "      <td>0.8716</td>\n",
       "      <td>0.8044</td>\n",
       "      <td>0.6969</td>\n",
       "      <td>0.7023</td>\n",
       "      <td>0.522</td>\n",
       "    </tr>\n",
       "    <tr>\n",
       "      <th>ada</th>\n",
       "      <td>Ada Boost Classifier</td>\n",
       "      <td>0.8408</td>\n",
       "      <td>0.9059</td>\n",
       "      <td>0.7272</td>\n",
       "      <td>0.8383</td>\n",
       "      <td>0.7779</td>\n",
       "      <td>0.6549</td>\n",
       "      <td>0.6597</td>\n",
       "      <td>0.209</td>\n",
       "    </tr>\n",
       "    <tr>\n",
       "      <th>lda</th>\n",
       "      <td>Linear Discriminant Analysis</td>\n",
       "      <td>0.8200</td>\n",
       "      <td>0.8658</td>\n",
       "      <td>0.6908</td>\n",
       "      <td>0.8151</td>\n",
       "      <td>0.7472</td>\n",
       "      <td>0.6089</td>\n",
       "      <td>0.6145</td>\n",
       "      <td>0.049</td>\n",
       "    </tr>\n",
       "    <tr>\n",
       "      <th>dt</th>\n",
       "      <td>Decision Tree Classifier</td>\n",
       "      <td>0.8687</td>\n",
       "      <td>0.8583</td>\n",
       "      <td>0.8135</td>\n",
       "      <td>0.8407</td>\n",
       "      <td>0.8261</td>\n",
       "      <td>0.7207</td>\n",
       "      <td>0.7218</td>\n",
       "      <td>0.035</td>\n",
       "    </tr>\n",
       "    <tr>\n",
       "      <th>knn</th>\n",
       "      <td>K Neighbors Classifier</td>\n",
       "      <td>0.7140</td>\n",
       "      <td>0.7635</td>\n",
       "      <td>0.5653</td>\n",
       "      <td>0.6467</td>\n",
       "      <td>0.6013</td>\n",
       "      <td>0.3805</td>\n",
       "      <td>0.3838</td>\n",
       "      <td>0.139</td>\n",
       "    </tr>\n",
       "    <tr>\n",
       "      <th>nb</th>\n",
       "      <td>Naive Bayes</td>\n",
       "      <td>0.7283</td>\n",
       "      <td>0.7474</td>\n",
       "      <td>0.4201</td>\n",
       "      <td>0.7687</td>\n",
       "      <td>0.5418</td>\n",
       "      <td>0.3723</td>\n",
       "      <td>0.4071</td>\n",
       "      <td>0.020</td>\n",
       "    </tr>\n",
       "    <tr>\n",
       "      <th>lr</th>\n",
       "      <td>Logistic Regression</td>\n",
       "      <td>0.7147</td>\n",
       "      <td>0.7242</td>\n",
       "      <td>0.4858</td>\n",
       "      <td>0.6874</td>\n",
       "      <td>0.5629</td>\n",
       "      <td>0.3622</td>\n",
       "      <td>0.3775</td>\n",
       "      <td>0.295</td>\n",
       "    </tr>\n",
       "    <tr>\n",
       "      <th>qda</th>\n",
       "      <td>Quadratic Discriminant Analysis</td>\n",
       "      <td>0.4970</td>\n",
       "      <td>0.5609</td>\n",
       "      <td>0.8380</td>\n",
       "      <td>0.4238</td>\n",
       "      <td>0.5614</td>\n",
       "      <td>0.1038</td>\n",
       "      <td>0.1392</td>\n",
       "      <td>0.031</td>\n",
       "    </tr>\n",
       "    <tr>\n",
       "      <th>dummy</th>\n",
       "      <td>Dummy Classifier</td>\n",
       "      <td>0.6155</td>\n",
       "      <td>0.5000</td>\n",
       "      <td>0.0000</td>\n",
       "      <td>0.0000</td>\n",
       "      <td>0.0000</td>\n",
       "      <td>0.0000</td>\n",
       "      <td>0.0000</td>\n",
       "      <td>0.018</td>\n",
       "    </tr>\n",
       "    <tr>\n",
       "      <th>svm</th>\n",
       "      <td>SVM - Linear Kernel</td>\n",
       "      <td>0.5517</td>\n",
       "      <td>0.0000</td>\n",
       "      <td>0.5999</td>\n",
       "      <td>0.4074</td>\n",
       "      <td>0.4078</td>\n",
       "      <td>0.1038</td>\n",
       "      <td>0.1448</td>\n",
       "      <td>0.042</td>\n",
       "    </tr>\n",
       "    <tr>\n",
       "      <th>ridge</th>\n",
       "      <td>Ridge Classifier</td>\n",
       "      <td>0.8200</td>\n",
       "      <td>0.0000</td>\n",
       "      <td>0.6898</td>\n",
       "      <td>0.8163</td>\n",
       "      <td>0.7470</td>\n",
       "      <td>0.6088</td>\n",
       "      <td>0.6147</td>\n",
       "      <td>0.019</td>\n",
       "    </tr>\n",
       "  </tbody>\n",
       "</table>\n",
       "</div>"
      ],
      "text/plain": [
       "                                    Model  Accuracy     AUC  Recall   Prec.  \\\n",
       "et                 Extra Trees Classifier    0.8921  0.9528  0.8273  0.8849   \n",
       "rf               Random Forest Classifier    0.9072  0.9496  0.8322  0.9187   \n",
       "lightgbm  Light Gradient Boosting Machine    0.8928  0.9442  0.8106  0.9010   \n",
       "gbc          Gradient Boosting Classifier    0.8604  0.9241  0.7478  0.8716   \n",
       "ada                  Ada Boost Classifier    0.8408  0.9059  0.7272  0.8383   \n",
       "lda          Linear Discriminant Analysis    0.8200  0.8658  0.6908  0.8151   \n",
       "dt               Decision Tree Classifier    0.8687  0.8583  0.8135  0.8407   \n",
       "knn                K Neighbors Classifier    0.7140  0.7635  0.5653  0.6467   \n",
       "nb                            Naive Bayes    0.7283  0.7474  0.4201  0.7687   \n",
       "lr                    Logistic Regression    0.7147  0.7242  0.4858  0.6874   \n",
       "qda       Quadratic Discriminant Analysis    0.4970  0.5609  0.8380  0.4238   \n",
       "dummy                    Dummy Classifier    0.6155  0.5000  0.0000  0.0000   \n",
       "svm                   SVM - Linear Kernel    0.5517  0.0000  0.5999  0.4074   \n",
       "ridge                    Ridge Classifier    0.8200  0.0000  0.6898  0.8163   \n",
       "\n",
       "              F1   Kappa     MCC  TT (Sec)  \n",
       "et        0.8548  0.7691  0.7706     0.618  \n",
       "rf        0.8730  0.8002  0.8029     0.661  \n",
       "lightgbm  0.8529  0.7691  0.7722     0.147  \n",
       "gbc       0.8044  0.6969  0.7023     0.522  \n",
       "ada       0.7779  0.6549  0.6597     0.209  \n",
       "lda       0.7472  0.6089  0.6145     0.049  \n",
       "dt        0.8261  0.7207  0.7218     0.035  \n",
       "knn       0.6013  0.3805  0.3838     0.139  \n",
       "nb        0.5418  0.3723  0.4071     0.020  \n",
       "lr        0.5629  0.3622  0.3775     0.295  \n",
       "qda       0.5614  0.1038  0.1392     0.031  \n",
       "dummy     0.0000  0.0000  0.0000     0.018  \n",
       "svm       0.4078  0.1038  0.1448     0.042  \n",
       "ridge     0.7470  0.6088  0.6147     0.019  "
      ]
     },
     "metadata": {},
     "output_type": "display_data"
    }
   ],
   "source": [
    "best_model = compare_models(sort='AUC')"
   ]
  },
  {
   "cell_type": "code",
   "execution_count": 168,
   "metadata": {
    "colab": {
     "base_uri": "https://localhost:8080/",
     "height": 421,
     "referenced_widgets": [
      "226b4789b0ec419f956dc3787f74f4dd",
      "78718737bdb1407483c07299488275e7",
      "075282c30bb244c48b0de00df4dac1a6"
     ]
    },
    "id": "_VG4IY1t6hWb",
    "outputId": "72e0e7f2-53a6-413e-e468-84ddc6931117"
   },
   "outputs": [
    {
     "data": {
      "text/html": [
       "<div>\n",
       "<style scoped>\n",
       "    .dataframe tbody tr th:only-of-type {\n",
       "        vertical-align: middle;\n",
       "    }\n",
       "\n",
       "    .dataframe tbody tr th {\n",
       "        vertical-align: top;\n",
       "    }\n",
       "\n",
       "    .dataframe thead th {\n",
       "        text-align: right;\n",
       "    }\n",
       "</style>\n",
       "<table border=\"1\" class=\"dataframe\">\n",
       "  <thead>\n",
       "    <tr style=\"text-align: right;\">\n",
       "      <th></th>\n",
       "      <th>Accuracy</th>\n",
       "      <th>AUC</th>\n",
       "      <th>Recall</th>\n",
       "      <th>Prec.</th>\n",
       "      <th>F1</th>\n",
       "      <th>Kappa</th>\n",
       "      <th>MCC</th>\n",
       "    </tr>\n",
       "  </thead>\n",
       "  <tbody>\n",
       "    <tr>\n",
       "      <th>0</th>\n",
       "      <td>0.8415</td>\n",
       "      <td>0.8872</td>\n",
       "      <td>0.7451</td>\n",
       "      <td>0.8261</td>\n",
       "      <td>0.7835</td>\n",
       "      <td>0.6590</td>\n",
       "      <td>0.6612</td>\n",
       "    </tr>\n",
       "    <tr>\n",
       "      <th>1</th>\n",
       "      <td>0.8075</td>\n",
       "      <td>0.8763</td>\n",
       "      <td>0.7843</td>\n",
       "      <td>0.7339</td>\n",
       "      <td>0.7583</td>\n",
       "      <td>0.5987</td>\n",
       "      <td>0.5996</td>\n",
       "    </tr>\n",
       "    <tr>\n",
       "      <th>2</th>\n",
       "      <td>0.8113</td>\n",
       "      <td>0.8767</td>\n",
       "      <td>0.6961</td>\n",
       "      <td>0.7889</td>\n",
       "      <td>0.7396</td>\n",
       "      <td>0.5926</td>\n",
       "      <td>0.5954</td>\n",
       "    </tr>\n",
       "    <tr>\n",
       "      <th>3</th>\n",
       "      <td>0.7849</td>\n",
       "      <td>0.8466</td>\n",
       "      <td>0.7157</td>\n",
       "      <td>0.7228</td>\n",
       "      <td>0.7192</td>\n",
       "      <td>0.5449</td>\n",
       "      <td>0.5449</td>\n",
       "    </tr>\n",
       "    <tr>\n",
       "      <th>4</th>\n",
       "      <td>0.8038</td>\n",
       "      <td>0.8810</td>\n",
       "      <td>0.7255</td>\n",
       "      <td>0.7551</td>\n",
       "      <td>0.7400</td>\n",
       "      <td>0.5825</td>\n",
       "      <td>0.5828</td>\n",
       "    </tr>\n",
       "    <tr>\n",
       "      <th>5</th>\n",
       "      <td>0.8528</td>\n",
       "      <td>0.8940</td>\n",
       "      <td>0.7745</td>\n",
       "      <td>0.8316</td>\n",
       "      <td>0.8020</td>\n",
       "      <td>0.6851</td>\n",
       "      <td>0.6862</td>\n",
       "    </tr>\n",
       "    <tr>\n",
       "      <th>6</th>\n",
       "      <td>0.7736</td>\n",
       "      <td>0.8420</td>\n",
       "      <td>0.6471</td>\n",
       "      <td>0.7333</td>\n",
       "      <td>0.6875</td>\n",
       "      <td>0.5111</td>\n",
       "      <td>0.5135</td>\n",
       "    </tr>\n",
       "    <tr>\n",
       "      <th>7</th>\n",
       "      <td>0.8340</td>\n",
       "      <td>0.9103</td>\n",
       "      <td>0.7647</td>\n",
       "      <td>0.7959</td>\n",
       "      <td>0.7800</td>\n",
       "      <td>0.6468</td>\n",
       "      <td>0.6471</td>\n",
       "    </tr>\n",
       "    <tr>\n",
       "      <th>8</th>\n",
       "      <td>0.8264</td>\n",
       "      <td>0.8938</td>\n",
       "      <td>0.7647</td>\n",
       "      <td>0.7800</td>\n",
       "      <td>0.7723</td>\n",
       "      <td>0.6321</td>\n",
       "      <td>0.6321</td>\n",
       "    </tr>\n",
       "    <tr>\n",
       "      <th>9</th>\n",
       "      <td>0.7660</td>\n",
       "      <td>0.8462</td>\n",
       "      <td>0.7030</td>\n",
       "      <td>0.6893</td>\n",
       "      <td>0.6961</td>\n",
       "      <td>0.5059</td>\n",
       "      <td>0.5060</td>\n",
       "    </tr>\n",
       "    <tr>\n",
       "      <th>Mean</th>\n",
       "      <td>0.8102</td>\n",
       "      <td>0.8754</td>\n",
       "      <td>0.7321</td>\n",
       "      <td>0.7657</td>\n",
       "      <td>0.7478</td>\n",
       "      <td>0.5959</td>\n",
       "      <td>0.5969</td>\n",
       "    </tr>\n",
       "    <tr>\n",
       "      <th>SD</th>\n",
       "      <td>0.0276</td>\n",
       "      <td>0.0221</td>\n",
       "      <td>0.0406</td>\n",
       "      <td>0.0441</td>\n",
       "      <td>0.0364</td>\n",
       "      <td>0.0583</td>\n",
       "      <td>0.0583</td>\n",
       "    </tr>\n",
       "  </tbody>\n",
       "</table>\n",
       "</div>"
      ],
      "text/plain": [
       "      Accuracy     AUC  Recall   Prec.      F1   Kappa     MCC\n",
       "0       0.8415  0.8872  0.7451  0.8261  0.7835  0.6590  0.6612\n",
       "1       0.8075  0.8763  0.7843  0.7339  0.7583  0.5987  0.5996\n",
       "2       0.8113  0.8767  0.6961  0.7889  0.7396  0.5926  0.5954\n",
       "3       0.7849  0.8466  0.7157  0.7228  0.7192  0.5449  0.5449\n",
       "4       0.8038  0.8810  0.7255  0.7551  0.7400  0.5825  0.5828\n",
       "5       0.8528  0.8940  0.7745  0.8316  0.8020  0.6851  0.6862\n",
       "6       0.7736  0.8420  0.6471  0.7333  0.6875  0.5111  0.5135\n",
       "7       0.8340  0.9103  0.7647  0.7959  0.7800  0.6468  0.6471\n",
       "8       0.8264  0.8938  0.7647  0.7800  0.7723  0.6321  0.6321\n",
       "9       0.7660  0.8462  0.7030  0.6893  0.6961  0.5059  0.5060\n",
       "Mean    0.8102  0.8754  0.7321  0.7657  0.7478  0.5959  0.5969\n",
       "SD      0.0276  0.0221  0.0406  0.0441  0.0364  0.0583  0.0583"
      ]
     },
     "metadata": {},
     "output_type": "display_data"
    }
   ],
   "source": [
    "tuned_best_model = tune_model(best_model)"
   ]
  },
  {
   "cell_type": "markdown",
   "metadata": {
    "id": "8VaagEjn2Kds"
   },
   "source": [
    "Performance of coverage"
   ]
  },
  {
   "cell_type": "code",
   "execution_count": 169,
   "metadata": {
    "colab": {
     "base_uri": "https://localhost:8080/",
     "height": 294,
     "referenced_widgets": [
      "ec2b32904c8c4c5db29d4c8123ab3d96",
      "b72eccaf3d4e4dbf86259f4845ba90c5",
      "e1c1adfa1ab543ef8b2095aff09244b9"
     ]
    },
    "id": "gK7K646x6pji",
    "outputId": "6048ff7c-8f18-4c37-ee75-3b0fcc3a5b7d"
   },
   "outputs": [
    {
     "data": {
      "image/png": "[encoded data removed]",
      "text/plain": [
       "<Figure size 432x288 with 1 Axes>"
      ]
     },
     "metadata": {
      "needs_background": "light"
     },
     "output_type": "display_data"
    }
   ],
   "source": [
    "plot_model(tuned_best_model, plot = 'auc')"
   ]
  },
  {
   "cell_type": "markdown",
   "metadata": {
    "id": "iJORjsvv2NPh"
   },
   "source": [
    "Feature importance"
   ]
  },
  {
   "cell_type": "code",
   "execution_count": 170,
   "metadata": {
    "colab": {
     "base_uri": "https://localhost:8080/",
     "height": 478,
     "referenced_widgets": [
      "5654c3a3e6264fecaa2c1a5e19338227",
      "a84568e9dab84908a1a2134a143f9c20",
      "aed33bd2025a426bbf9d906d72b00ce6"
     ]
    },
    "id": "_HwqLz8YBo4k",
    "outputId": "013dfed4-28e5-4424-a3d0-fdad42af4b64"
   },
   "outputs": [
    {
     "data": {
      "image/png": "[encoded data removed]",
      "text/plain": [
       "<Figure size 800x500 with 1 Axes>"
      ]
     },
     "metadata": {
      "needs_background": "light"
     },
     "output_type": "display_data"
    }
   ],
   "source": [
    "plot_model(tuned_best_model, plot = 'feature')"
   ]
  },
  {
   "cell_type": "markdown",
   "metadata": {
    "id": "5M50JZuO2P1M"
   },
   "source": [
    "Confusion matrix"
   ]
  },
  {
   "cell_type": "code",
   "execution_count": 171,
   "metadata": {
    "colab": {
     "base_uri": "https://localhost:8080/",
     "height": 297,
     "referenced_widgets": [
      "3918fe45c79143059282409303111fbe",
      "1c16ccc41ff341bebe9d82ece3ed9093",
      "2146957c56d04b57bda3dd3b2256e1e2"
     ]
    },
    "id": "Gd6_KZOr6sQw",
    "outputId": "07b02d52-4e5a-48f7-a71a-ef4b5c2273f3"
   },
   "outputs": [
    {
     "data": {
      "image/png": "[encoded data removed]",
      "text/plain": [
       "<Figure size 432x288 with 1 Axes>"
      ]
     },
     "metadata": {
      "needs_background": "light"
     },
     "output_type": "display_data"
    }
   ],
   "source": [
    "plot_model(tuned_best_model, plot = 'confusion_matrix')"
   ]
  },
  {
   "cell_type": "markdown",
   "metadata": {
    "id": "SuwT1EGz9tK0"
   },
   "source": [
    "Test Set"
   ]
  },
  {
   "cell_type": "code",
   "execution_count": 172,
   "metadata": {
    "id": "jO9k5bwA67PV"
   },
   "outputs": [],
   "source": [
    "test=pd.read_csv('/content/drive/MyDrive/Job A thon/test_hXY9mYw.csv')"
   ]
  },
  {
   "cell_type": "code",
   "execution_count": 173,
   "metadata": {
    "id": "7MoqhD6H-ZqY"
   },
   "outputs": [],
   "source": [
    "testset=uniqueemployeesdata[uniqueemployeesdata['Emp_ID'].isin(test['Emp_ID'])]\n",
    "testset= testset.drop_duplicates()"
   ]
  },
  {
   "cell_type": "code",
   "execution_count": 174,
   "metadata": {
    "colab": {
     "base_uri": "https://localhost:8080/",
     "height": 484,
     "referenced_widgets": [
      "3753938daa4740b69550a8559725d4b2",
      "6bc52f65234d425d824dbc7de27b2be1",
      "a8a154e2fa144be4a650f4c855168f63",
      "613059247b2e4095acc243b2657ca452"
     ]
    },
    "id": "GRwf5rsN-mAz",
    "outputId": "b61b1c5b-dc3d-42cd-8f4c-ccdf6081350f"
   },
   "outputs": [
    {
     "data": {
      "text/html": [
       "<div>\n",
       "<style scoped>\n",
       "    .dataframe tbody tr th:only-of-type {\n",
       "        vertical-align: middle;\n",
       "    }\n",
       "\n",
       "    .dataframe tbody tr th {\n",
       "        vertical-align: top;\n",
       "    }\n",
       "\n",
       "    .dataframe thead th {\n",
       "        text-align: right;\n",
       "    }\n",
       "</style>\n",
       "<table border=\"1\" class=\"dataframe\">\n",
       "  <thead>\n",
       "    <tr style=\"text-align: right;\">\n",
       "      <th></th>\n",
       "      <th>Accuracy</th>\n",
       "      <th>AUC</th>\n",
       "      <th>Recall</th>\n",
       "      <th>Prec.</th>\n",
       "      <th>F1</th>\n",
       "      <th>Kappa</th>\n",
       "      <th>MCC</th>\n",
       "    </tr>\n",
       "  </thead>\n",
       "  <tbody>\n",
       "    <tr>\n",
       "      <th>0</th>\n",
       "      <td>0.8415</td>\n",
       "      <td>0.8872</td>\n",
       "      <td>0.7451</td>\n",
       "      <td>0.8261</td>\n",
       "      <td>0.7835</td>\n",
       "      <td>0.6590</td>\n",
       "      <td>0.6612</td>\n",
       "    </tr>\n",
       "    <tr>\n",
       "      <th>1</th>\n",
       "      <td>0.8075</td>\n",
       "      <td>0.8763</td>\n",
       "      <td>0.7843</td>\n",
       "      <td>0.7339</td>\n",
       "      <td>0.7583</td>\n",
       "      <td>0.5987</td>\n",
       "      <td>0.5996</td>\n",
       "    </tr>\n",
       "    <tr>\n",
       "      <th>2</th>\n",
       "      <td>0.8113</td>\n",
       "      <td>0.8767</td>\n",
       "      <td>0.6961</td>\n",
       "      <td>0.7889</td>\n",
       "      <td>0.7396</td>\n",
       "      <td>0.5926</td>\n",
       "      <td>0.5954</td>\n",
       "    </tr>\n",
       "    <tr>\n",
       "      <th>3</th>\n",
       "      <td>0.7849</td>\n",
       "      <td>0.8466</td>\n",
       "      <td>0.7157</td>\n",
       "      <td>0.7228</td>\n",
       "      <td>0.7192</td>\n",
       "      <td>0.5449</td>\n",
       "      <td>0.5449</td>\n",
       "    </tr>\n",
       "    <tr>\n",
       "      <th>4</th>\n",
       "      <td>0.8038</td>\n",
       "      <td>0.8810</td>\n",
       "      <td>0.7255</td>\n",
       "      <td>0.7551</td>\n",
       "      <td>0.7400</td>\n",
       "      <td>0.5825</td>\n",
       "      <td>0.5828</td>\n",
       "    </tr>\n",
       "    <tr>\n",
       "      <th>5</th>\n",
       "      <td>0.8528</td>\n",
       "      <td>0.8940</td>\n",
       "      <td>0.7745</td>\n",
       "      <td>0.8316</td>\n",
       "      <td>0.8020</td>\n",
       "      <td>0.6851</td>\n",
       "      <td>0.6862</td>\n",
       "    </tr>\n",
       "    <tr>\n",
       "      <th>6</th>\n",
       "      <td>0.7736</td>\n",
       "      <td>0.8420</td>\n",
       "      <td>0.6471</td>\n",
       "      <td>0.7333</td>\n",
       "      <td>0.6875</td>\n",
       "      <td>0.5111</td>\n",
       "      <td>0.5135</td>\n",
       "    </tr>\n",
       "    <tr>\n",
       "      <th>7</th>\n",
       "      <td>0.8340</td>\n",
       "      <td>0.9103</td>\n",
       "      <td>0.7647</td>\n",
       "      <td>0.7959</td>\n",
       "      <td>0.7800</td>\n",
       "      <td>0.6468</td>\n",
       "      <td>0.6471</td>\n",
       "    </tr>\n",
       "    <tr>\n",
       "      <th>8</th>\n",
       "      <td>0.8264</td>\n",
       "      <td>0.8938</td>\n",
       "      <td>0.7647</td>\n",
       "      <td>0.7800</td>\n",
       "      <td>0.7723</td>\n",
       "      <td>0.6321</td>\n",
       "      <td>0.6321</td>\n",
       "    </tr>\n",
       "    <tr>\n",
       "      <th>9</th>\n",
       "      <td>0.7660</td>\n",
       "      <td>0.8462</td>\n",
       "      <td>0.7030</td>\n",
       "      <td>0.6893</td>\n",
       "      <td>0.6961</td>\n",
       "      <td>0.5059</td>\n",
       "      <td>0.5060</td>\n",
       "    </tr>\n",
       "    <tr>\n",
       "      <th>Mean</th>\n",
       "      <td>0.8102</td>\n",
       "      <td>0.8754</td>\n",
       "      <td>0.7321</td>\n",
       "      <td>0.7657</td>\n",
       "      <td>0.7478</td>\n",
       "      <td>0.5959</td>\n",
       "      <td>0.5969</td>\n",
       "    </tr>\n",
       "    <tr>\n",
       "      <th>SD</th>\n",
       "      <td>0.0276</td>\n",
       "      <td>0.0221</td>\n",
       "      <td>0.0406</td>\n",
       "      <td>0.0441</td>\n",
       "      <td>0.0364</td>\n",
       "      <td>0.0583</td>\n",
       "      <td>0.0583</td>\n",
       "    </tr>\n",
       "  </tbody>\n",
       "</table>\n",
       "</div>"
      ],
      "text/plain": [
       "      Accuracy     AUC  Recall   Prec.      F1   Kappa     MCC\n",
       "0       0.8415  0.8872  0.7451  0.8261  0.7835  0.6590  0.6612\n",
       "1       0.8075  0.8763  0.7843  0.7339  0.7583  0.5987  0.5996\n",
       "2       0.8113  0.8767  0.6961  0.7889  0.7396  0.5926  0.5954\n",
       "3       0.7849  0.8466  0.7157  0.7228  0.7192  0.5449  0.5449\n",
       "4       0.8038  0.8810  0.7255  0.7551  0.7400  0.5825  0.5828\n",
       "5       0.8528  0.8940  0.7745  0.8316  0.8020  0.6851  0.6862\n",
       "6       0.7736  0.8420  0.6471  0.7333  0.6875  0.5111  0.5135\n",
       "7       0.8340  0.9103  0.7647  0.7959  0.7800  0.6468  0.6471\n",
       "8       0.8264  0.8938  0.7647  0.7800  0.7723  0.6321  0.6321\n",
       "9       0.7660  0.8462  0.7030  0.6893  0.6961  0.5059  0.5060\n",
       "Mean    0.8102  0.8754  0.7321  0.7657  0.7478  0.5959  0.5969\n",
       "SD      0.0276  0.0221  0.0406  0.0441  0.0364  0.0583  0.0583"
      ]
     },
     "metadata": {},
     "output_type": "display_data"
    },
    {
     "data": {
      "text/html": [
       "<div>\n",
       "<style scoped>\n",
       "    .dataframe tbody tr th:only-of-type {\n",
       "        vertical-align: middle;\n",
       "    }\n",
       "\n",
       "    .dataframe tbody tr th {\n",
       "        vertical-align: top;\n",
       "    }\n",
       "\n",
       "    .dataframe thead th {\n",
       "        text-align: right;\n",
       "    }\n",
       "</style>\n",
       "<table border=\"1\" class=\"dataframe\">\n",
       "  <thead>\n",
       "    <tr style=\"text-align: right;\">\n",
       "      <th></th>\n",
       "      <th>Model</th>\n",
       "      <th>Accuracy</th>\n",
       "      <th>AUC</th>\n",
       "      <th>Recall</th>\n",
       "      <th>Prec.</th>\n",
       "      <th>F1</th>\n",
       "      <th>Kappa</th>\n",
       "      <th>MCC</th>\n",
       "    </tr>\n",
       "  </thead>\n",
       "  <tbody>\n",
       "    <tr>\n",
       "      <th>0</th>\n",
       "      <td>Extra Trees Classifier</td>\n",
       "      <td>0.8169</td>\n",
       "      <td>0.8786</td>\n",
       "      <td>0.7444</td>\n",
       "      <td>0.7793</td>\n",
       "      <td>0.7615</td>\n",
       "      <td>0.613</td>\n",
       "      <td>0.6134</td>\n",
       "    </tr>\n",
       "  </tbody>\n",
       "</table>\n",
       "</div>"
      ],
      "text/plain": [
       "                    Model  Accuracy     AUC  ...      F1  Kappa     MCC\n",
       "0  Extra Trees Classifier    0.8169  0.8786  ...  0.7615  0.613  0.6134\n",
       "\n",
       "[1 rows x 8 columns]"
      ]
     },
     "metadata": {},
     "output_type": "display_data"
    }
   ],
   "source": [
    "et = create_model('et')\n",
    "tuned_et = tune_model(et)\n",
    "predict_model(tuned_et)\n",
    "final_et = finalize_model(tuned_et)\n",
    "unseen_predictions = predict_model(final_et, data=testset)\n",
    "predictionsfinal= unseen_predictions[['Emp_ID','Label']].drop_duplicates()\n"
   ]
  },
  {
   "cell_type": "code",
   "execution_count": 175,
   "metadata": {
    "id": "Fvc747lL4APq"
   },
   "outputs": [],
   "source": [
    "predictionsfinal= predictionsfinal.drop_duplicates( subset='Emp_ID',keep='last')\n",
    "predictionsfinal.to_csv('predictions.csv')"
   ]
  }
 ],
 "metadata": {
  "colab": {
   "collapsed_sections": [],
   "name": "Jobthon.ipynb",
   "provenance": []
  },
  "kernelspec": {
   "display_name": "Python 3",
   "language": "python",
   "name": "python3"
  },
  "language_info": {
   "codemirror_mode": {
    "name": "ipython",
    "version": 3
   },
   "file_extension": ".py",
   "mimetype": "text/x-python",
   "name": "python",
   "nbconvert_exporter": "python",
   "pygments_lexer": "ipython3",
   "version": "3.8.8"
  },
  "widgets": {
   "application/vnd.jupyter.widget-state+json": {
    "043b6c35aa454a60a4ca434141213992": {
     "model_module": "@jupyter-widgets/base",
     "model_module_version": "1.2.0",
     "model_name": "LayoutModel",
     "state": {
      "_model_module": "@jupyter-widgets/base",
      "_model_module_version": "1.2.0",
      "_model_name": "LayoutModel",
      "_view_count": null,
      "_view_module": "@jupyter-widgets/base",
      "_view_module_version": "1.2.0",
      "_view_name": "LayoutView",
      "align_content": null,
      "align_items": null,
      "align_self": null,
      "border": null,
      "bottom": null,
      "display": null,
      "flex": null,
      "flex_flow": null,
      "grid_area": null,
      "grid_auto_columns": null,
      "grid_auto_flow": null,
      "grid_auto_rows": null,
      "grid_column": null,
      "grid_gap": null,
      "grid_row": null,
      "grid_template_areas": null,
      "grid_template_columns": null,
      "grid_template_rows": null,
      "height": null,
      "justify_content": null,
      "justify_items": null,
      "left": null,
      "margin": null,
      "max_height": null,
      "max_width": null,
      "min_height": null,
      "min_width": null,
      "object_fit": null,
      "object_position": null,
      "order": null,
      "overflow": null,
      "overflow_x": null,
      "overflow_y": null,
      "padding": null,
      "right": null,
      "top": null,
      "visibility": null,
      "width": null
     }
    },
    "075282c30bb244c48b0de00df4dac1a6": {
     "model_module": "@jupyter-widgets/base",
     "model_module_version": "1.2.0",
     "model_name": "LayoutModel",
     "state": {
      "_model_module": "@jupyter-widgets/base",
      "_model_module_version": "1.2.0",
      "_model_name": "LayoutModel",
      "_view_count": null,
      "_view_module": "@jupyter-widgets/base",
      "_view_module_version": "1.2.0",
      "_view_name": "LayoutView",
      "align_content": null,
      "align_items": null,
      "align_self": null,
      "border": null,
      "bottom": null,
      "display": null,
      "flex": null,
      "flex_flow": null,
      "grid_area": null,
      "grid_auto_columns": null,
      "grid_auto_flow": null,
      "grid_auto_rows": null,
      "grid_column": null,
      "grid_gap": null,
      "grid_row": null,
      "grid_template_areas": null,
      "grid_template_columns": null,
      "grid_template_rows": null,
      "height": null,
      "justify_content": null,
      "justify_items": null,
      "left": null,
      "margin": null,
      "max_height": null,
      "max_width": null,
      "min_height": null,
      "min_width": null,
      "object_fit": null,
      "object_position": null,
      "order": null,
      "overflow": null,
      "overflow_x": null,
      "overflow_y": null,
      "padding": null,
      "right": null,
      "top": null,
      "visibility": null,
      "width": null
     }
    },
    "09369f7cbf274162bee0bebfe4bd36af": {
     "model_module": "@jupyter-widgets/controls",
     "model_module_version": "1.5.0",
     "model_name": "IntProgressModel",
     "state": {
      "_dom_classes": [],
      "_model_module": "@jupyter-widgets/controls",
      "_model_module_version": "1.5.0",
      "_model_name": "IntProgressModel",
      "_view_count": null,
      "_view_module": "@jupyter-widgets/controls",
      "_view_module_version": "1.5.0",
      "_view_name": "ProgressView",
      "bar_style": "",
      "description": "Processing: ",
      "description_tooltip": null,
      "layout": "IPY_MODEL_043b6c35aa454a60a4ca434141213992",
      "max": 3,
      "min": 0,
      "orientation": "horizontal",
      "style": "IPY_MODEL_64a9d89d9fcd4dea9b69baf5176e0bd2",
      "value": 3
     }
    },
    "1c16ccc41ff341bebe9d82ece3ed9093": {
     "model_module": "@jupyter-widgets/controls",
     "model_module_version": "1.5.0",
     "model_name": "ProgressStyleModel",
     "state": {
      "_model_module": "@jupyter-widgets/controls",
      "_model_module_version": "1.5.0",
      "_model_name": "ProgressStyleModel",
      "_view_count": null,
      "_view_module": "@jupyter-widgets/base",
      "_view_module_version": "1.2.0",
      "_view_name": "StyleView",
      "bar_color": null,
      "description_width": ""
     }
    },
    "2146957c56d04b57bda3dd3b2256e1e2": {
     "model_module": "@jupyter-widgets/base",
     "model_module_version": "1.2.0",
     "model_name": "LayoutModel",
     "state": {
      "_model_module": "@jupyter-widgets/base",
      "_model_module_version": "1.2.0",
      "_model_name": "LayoutModel",
      "_view_count": null,
      "_view_module": "@jupyter-widgets/base",
      "_view_module_version": "1.2.0",
      "_view_name": "LayoutView",
      "align_content": null,
      "align_items": null,
      "align_self": null,
      "border": null,
      "bottom": null,
      "display": null,
      "flex": null,
      "flex_flow": null,
      "grid_area": null,
      "grid_auto_columns": null,
      "grid_auto_flow": null,
      "grid_auto_rows": null,
      "grid_column": null,
      "grid_gap": null,
      "grid_row": null,
      "grid_template_areas": null,
      "grid_template_columns": null,
      "grid_template_rows": null,
      "height": null,
      "justify_content": null,
      "justify_items": null,
      "left": null,
      "margin": null,
      "max_height": null,
      "max_width": null,
      "min_height": null,
      "min_width": null,
      "object_fit": null,
      "object_position": null,
      "order": null,
      "overflow": null,
      "overflow_x": null,
      "overflow_y": null,
      "padding": null,
      "right": null,
      "top": null,
      "visibility": null,
      "width": null
     }
    },
    "226b4789b0ec419f956dc3787f74f4dd": {
     "model_module": "@jupyter-widgets/controls",
     "model_module_version": "1.5.0",
     "model_name": "IntProgressModel",
     "state": {
      "_dom_classes": [],
      "_model_module": "@jupyter-widgets/controls",
      "_model_module_version": "1.5.0",
      "_model_name": "IntProgressModel",
      "_view_count": null,
      "_view_module": "@jupyter-widgets/controls",
      "_view_module_version": "1.5.0",
      "_view_name": "ProgressView",
      "bar_style": "",
      "description": "Processing: ",
      "description_tooltip": null,
      "layout": "IPY_MODEL_075282c30bb244c48b0de00df4dac1a6",
      "max": 7,
      "min": 0,
      "orientation": "horizontal",
      "style": "IPY_MODEL_78718737bdb1407483c07299488275e7",
      "value": 7
     }
    },
    "3918fe45c79143059282409303111fbe": {
     "model_module": "@jupyter-widgets/controls",
     "model_module_version": "1.5.0",
     "model_name": "IntProgressModel",
     "state": {
      "_dom_classes": [],
      "_model_module": "@jupyter-widgets/controls",
      "_model_module_version": "1.5.0",
      "_model_name": "IntProgressModel",
      "_view_count": null,
      "_view_module": "@jupyter-widgets/controls",
      "_view_module_version": "1.5.0",
      "_view_name": "ProgressView",
      "bar_style": "",
      "description": "Processing: ",
      "description_tooltip": null,
      "layout": "IPY_MODEL_2146957c56d04b57bda3dd3b2256e1e2",
      "max": 5,
      "min": 0,
      "orientation": "horizontal",
      "style": "IPY_MODEL_1c16ccc41ff341bebe9d82ece3ed9093",
      "value": 5
     }
    },
    "3a577e71ada842d8b0385dc48984a1d9": {
     "model_module": "@jupyter-widgets/controls",
     "model_module_version": "1.5.0",
     "model_name": "ProgressStyleModel",
     "state": {
      "_model_module": "@jupyter-widgets/controls",
      "_model_module_version": "1.5.0",
      "_model_name": "ProgressStyleModel",
      "_view_count": null,
      "_view_module": "@jupyter-widgets/base",
      "_view_module_version": "1.2.0",
      "_view_name": "StyleView",
      "bar_color": null,
      "description_width": ""
     }
    },
    "42bb0d3830e9453cb90b0566887381e6": {
     "model_module": "@jupyter-widgets/base",
     "model_module_version": "1.2.0",
     "model_name": "LayoutModel",
     "state": {
      "_model_module": "@jupyter-widgets/base",
      "_model_module_version": "1.2.0",
      "_model_name": "LayoutModel",
      "_view_count": null,
      "_view_module": "@jupyter-widgets/base",
      "_view_module_version": "1.2.0",
      "_view_name": "LayoutView",
      "align_content": null,
      "align_items": null,
      "align_self": null,
      "border": null,
      "bottom": null,
      "display": null,
      "flex": null,
      "flex_flow": null,
      "grid_area": null,
      "grid_auto_columns": null,
      "grid_auto_flow": null,
      "grid_auto_rows": null,
      "grid_column": null,
      "grid_gap": null,
      "grid_row": null,
      "grid_template_areas": null,
      "grid_template_columns": null,
      "grid_template_rows": null,
      "height": null,
      "justify_content": null,
      "justify_items": null,
      "left": null,
      "margin": null,
      "max_height": null,
      "max_width": null,
      "min_height": null,
      "min_width": null,
      "object_fit": null,
      "object_position": null,
      "order": null,
      "overflow": null,
      "overflow_x": null,
      "overflow_y": null,
      "padding": null,
      "right": null,
      "top": null,
      "visibility": null,
      "width": null
     }
    },
    "5654c3a3e6264fecaa2c1a5e19338227": {
     "model_module": "@jupyter-widgets/controls",
     "model_module_version": "1.5.0",
     "model_name": "IntProgressModel",
     "state": {
      "_dom_classes": [],
      "_model_module": "@jupyter-widgets/controls",
      "_model_module_version": "1.5.0",
      "_model_name": "IntProgressModel",
      "_view_count": null,
      "_view_module": "@jupyter-widgets/controls",
      "_view_module_version": "1.5.0",
      "_view_name": "ProgressView",
      "bar_style": "",
      "description": "Processing: ",
      "description_tooltip": null,
      "layout": "IPY_MODEL_aed33bd2025a426bbf9d906d72b00ce6",
      "max": 5,
      "min": 0,
      "orientation": "horizontal",
      "style": "IPY_MODEL_a84568e9dab84908a1a2134a143f9c20",
      "value": 5
     }
    },
    "613059247b2e4095acc243b2657ca452": {
     "model_module": "@jupyter-widgets/base",
     "model_module_version": "1.2.0",
     "model_name": "LayoutModel",
     "state": {
      "_model_module": "@jupyter-widgets/base",
      "_model_module_version": "1.2.0",
      "_model_name": "LayoutModel",
      "_view_count": null,
      "_view_module": "@jupyter-widgets/base",
      "_view_module_version": "1.2.0",
      "_view_name": "LayoutView",
      "align_content": null,
      "align_items": null,
      "align_self": null,
      "border": null,
      "bottom": null,
      "display": null,
      "flex": null,
      "flex_flow": null,
      "grid_area": null,
      "grid_auto_columns": null,
      "grid_auto_flow": null,
      "grid_auto_rows": null,
      "grid_column": null,
      "grid_gap": null,
      "grid_row": null,
      "grid_template_areas": null,
      "grid_template_columns": null,
      "grid_template_rows": null,
      "height": null,
      "justify_content": null,
      "justify_items": null,
      "left": null,
      "margin": null,
      "max_height": null,
      "max_width": null,
      "min_height": null,
      "min_width": null,
      "object_fit": null,
      "object_position": null,
      "order": null,
      "overflow": null,
      "overflow_x": null,
      "overflow_y": null,
      "padding": null,
      "right": null,
      "top": null,
      "visibility": null,
      "width": null
     }
    },
    "64a9d89d9fcd4dea9b69baf5176e0bd2": {
     "model_module": "@jupyter-widgets/controls",
     "model_module_version": "1.5.0",
     "model_name": "ProgressStyleModel",
     "state": {
      "_model_module": "@jupyter-widgets/controls",
      "_model_module_version": "1.5.0",
      "_model_name": "ProgressStyleModel",
      "_view_count": null,
      "_view_module": "@jupyter-widgets/base",
      "_view_module_version": "1.2.0",
      "_view_name": "StyleView",
      "bar_color": null,
      "description_width": ""
     }
    },
    "6bc52f65234d425d824dbc7de27b2be1": {
     "model_module": "@jupyter-widgets/controls",
     "model_module_version": "1.5.0",
     "model_name": "IntProgressModel",
     "state": {
      "_dom_classes": [],
      "_model_module": "@jupyter-widgets/controls",
      "_model_module_version": "1.5.0",
      "_model_name": "IntProgressModel",
      "_view_count": null,
      "_view_module": "@jupyter-widgets/controls",
      "_view_module_version": "1.5.0",
      "_view_name": "ProgressView",
      "bar_style": "",
      "description": "Processing: ",
      "description_tooltip": null,
      "layout": "IPY_MODEL_613059247b2e4095acc243b2657ca452",
      "max": 7,
      "min": 0,
      "orientation": "horizontal",
      "style": "IPY_MODEL_a8a154e2fa144be4a650f4c855168f63",
      "value": 7
     }
    },
    "78718737bdb1407483c07299488275e7": {
     "model_module": "@jupyter-widgets/controls",
     "model_module_version": "1.5.0",
     "model_name": "ProgressStyleModel",
     "state": {
      "_model_module": "@jupyter-widgets/controls",
      "_model_module_version": "1.5.0",
      "_model_name": "ProgressStyleModel",
      "_view_count": null,
      "_view_module": "@jupyter-widgets/base",
      "_view_module_version": "1.2.0",
      "_view_name": "StyleView",
      "bar_color": null,
      "description_width": ""
     }
    },
    "a84568e9dab84908a1a2134a143f9c20": {
     "model_module": "@jupyter-widgets/controls",
     "model_module_version": "1.5.0",
     "model_name": "ProgressStyleModel",
     "state": {
      "_model_module": "@jupyter-widgets/controls",
      "_model_module_version": "1.5.0",
      "_model_name": "ProgressStyleModel",
      "_view_count": null,
      "_view_module": "@jupyter-widgets/base",
      "_view_module_version": "1.2.0",
      "_view_name": "StyleView",
      "bar_color": null,
      "description_width": ""
     }
    },
    "a8a154e2fa144be4a650f4c855168f63": {
     "model_module": "@jupyter-widgets/controls",
     "model_module_version": "1.5.0",
     "model_name": "ProgressStyleModel",
     "state": {
      "_model_module": "@jupyter-widgets/controls",
      "_model_module_version": "1.5.0",
      "_model_name": "ProgressStyleModel",
      "_view_count": null,
      "_view_module": "@jupyter-widgets/base",
      "_view_module_version": "1.2.0",
      "_view_name": "StyleView",
      "bar_color": null,
      "description_width": ""
     }
    },
    "aed33bd2025a426bbf9d906d72b00ce6": {
     "model_module": "@jupyter-widgets/base",
     "model_module_version": "1.2.0",
     "model_name": "LayoutModel",
     "state": {
      "_model_module": "@jupyter-widgets/base",
      "_model_module_version": "1.2.0",
      "_model_name": "LayoutModel",
      "_view_count": null,
      "_view_module": "@jupyter-widgets/base",
      "_view_module_version": "1.2.0",
      "_view_name": "LayoutView",
      "align_content": null,
      "align_items": null,
      "align_self": null,
      "border": null,
      "bottom": null,
      "display": null,
      "flex": null,
      "flex_flow": null,
      "grid_area": null,
      "grid_auto_columns": null,
      "grid_auto_flow": null,
      "grid_auto_rows": null,
      "grid_column": null,
      "grid_gap": null,
      "grid_row": null,
      "grid_template_areas": null,
      "grid_template_columns": null,
      "grid_template_rows": null,
      "height": null,
      "justify_content": null,
      "justify_items": null,
      "left": null,
      "margin": null,
      "max_height": null,
      "max_width": null,
      "min_height": null,
      "min_width": null,
      "object_fit": null,
      "object_position": null,
      "order": null,
      "overflow": null,
      "overflow_x": null,
      "overflow_y": null,
      "padding": null,
      "right": null,
      "top": null,
      "visibility": null,
      "width": null
     }
    },
    "b72eccaf3d4e4dbf86259f4845ba90c5": {
     "model_module": "@jupyter-widgets/controls",
     "model_module_version": "1.5.0",
     "model_name": "ProgressStyleModel",
     "state": {
      "_model_module": "@jupyter-widgets/controls",
      "_model_module_version": "1.5.0",
      "_model_name": "ProgressStyleModel",
      "_view_count": null,
      "_view_module": "@jupyter-widgets/base",
      "_view_module_version": "1.2.0",
      "_view_name": "StyleView",
      "bar_color": null,
      "description_width": ""
     }
    },
    "b9942e7eb43e4fe5a421b4fe85187dfd": {
     "model_module": "@jupyter-widgets/controls",
     "model_module_version": "1.5.0",
     "model_name": "IntProgressModel",
     "state": {
      "_dom_classes": [],
      "_model_module": "@jupyter-widgets/controls",
      "_model_module_version": "1.5.0",
      "_model_name": "IntProgressModel",
      "_view_count": null,
      "_view_module": "@jupyter-widgets/controls",
      "_view_module_version": "1.5.0",
      "_view_name": "ProgressView",
      "bar_style": "",
      "description": "Processing: ",
      "description_tooltip": null,
      "layout": "IPY_MODEL_42bb0d3830e9453cb90b0566887381e6",
      "max": 74,
      "min": 0,
      "orientation": "horizontal",
      "style": "IPY_MODEL_3a577e71ada842d8b0385dc48984a1d9",
      "value": 74
     }
    },
    "bf2d50e8056542fa9d022905f2ab73fc": {
     "model_module": "@jupyter-widgets/controls",
     "model_module_version": "1.5.0",
     "model_name": "DescriptionStyleModel",
     "state": {
      "_model_module": "@jupyter-widgets/controls",
      "_model_module_version": "1.5.0",
      "_model_name": "DescriptionStyleModel",
      "_view_count": null,
      "_view_module": "@jupyter-widgets/base",
      "_view_module_version": "1.2.0",
      "_view_name": "StyleView",
      "description_width": ""
     }
    },
    "ccddecea48ec4394a9ee2f9b70deaec4": {
     "model_module": "@jupyter-widgets/base",
     "model_module_version": "1.2.0",
     "model_name": "LayoutModel",
     "state": {
      "_model_module": "@jupyter-widgets/base",
      "_model_module_version": "1.2.0",
      "_model_name": "LayoutModel",
      "_view_count": null,
      "_view_module": "@jupyter-widgets/base",
      "_view_module_version": "1.2.0",
      "_view_name": "LayoutView",
      "align_content": null,
      "align_items": null,
      "align_self": null,
      "border": null,
      "bottom": null,
      "display": null,
      "flex": null,
      "flex_flow": null,
      "grid_area": null,
      "grid_auto_columns": null,
      "grid_auto_flow": null,
      "grid_auto_rows": null,
      "grid_column": null,
      "grid_gap": null,
      "grid_row": null,
      "grid_template_areas": null,
      "grid_template_columns": null,
      "grid_template_rows": null,
      "height": null,
      "justify_content": null,
      "justify_items": null,
      "left": null,
      "margin": null,
      "max_height": null,
      "max_width": null,
      "min_height": null,
      "min_width": null,
      "object_fit": null,
      "object_position": null,
      "order": null,
      "overflow": null,
      "overflow_x": null,
      "overflow_y": null,
      "padding": null,
      "right": null,
      "top": null,
      "visibility": null,
      "width": "100%"
     }
    },
    "e1c1adfa1ab543ef8b2095aff09244b9": {
     "model_module": "@jupyter-widgets/base",
     "model_module_version": "1.2.0",
     "model_name": "LayoutModel",
     "state": {
      "_model_module": "@jupyter-widgets/base",
      "_model_module_version": "1.2.0",
      "_model_name": "LayoutModel",
      "_view_count": null,
      "_view_module": "@jupyter-widgets/base",
      "_view_module_version": "1.2.0",
      "_view_name": "LayoutView",
      "align_content": null,
      "align_items": null,
      "align_self": null,
      "border": null,
      "bottom": null,
      "display": null,
      "flex": null,
      "flex_flow": null,
      "grid_area": null,
      "grid_auto_columns": null,
      "grid_auto_flow": null,
      "grid_auto_rows": null,
      "grid_column": null,
      "grid_gap": null,
      "grid_row": null,
      "grid_template_areas": null,
      "grid_template_columns": null,
      "grid_template_rows": null,
      "height": null,
      "justify_content": null,
      "justify_items": null,
      "left": null,
      "margin": null,
      "max_height": null,
      "max_width": null,
      "min_height": null,
      "min_width": null,
      "object_fit": null,
      "object_position": null,
      "order": null,
      "overflow": null,
      "overflow_x": null,
      "overflow_y": null,
      "padding": null,
      "right": null,
      "top": null,
      "visibility": null,
      "width": null
     }
    },
    "ec2b32904c8c4c5db29d4c8123ab3d96": {
     "model_module": "@jupyter-widgets/controls",
     "model_module_version": "1.5.0",
     "model_name": "IntProgressModel",
     "state": {
      "_dom_classes": [],
      "_model_module": "@jupyter-widgets/controls",
      "_model_module_version": "1.5.0",
      "_model_name": "IntProgressModel",
      "_view_count": null,
      "_view_module": "@jupyter-widgets/controls",
      "_view_module_version": "1.5.0",
      "_view_name": "ProgressView",
      "bar_style": "",
      "description": "Processing: ",
      "description_tooltip": null,
      "layout": "IPY_MODEL_e1c1adfa1ab543ef8b2095aff09244b9",
      "max": 5,
      "min": 0,
      "orientation": "horizontal",
      "style": "IPY_MODEL_b72eccaf3d4e4dbf86259f4845ba90c5",
      "value": 5
     }
    },
    "ee5e520dd05c4f3d97857d3e10fdef19": {
     "model_module": "@jupyter-widgets/controls",
     "model_module_version": "1.5.0",
     "model_name": "TextModel",
     "state": {
      "_dom_classes": [],
      "_model_module": "@jupyter-widgets/controls",
      "_model_module_version": "1.5.0",
      "_model_name": "TextModel",
      "_view_count": null,
      "_view_module": "@jupyter-widgets/controls",
      "_view_module_version": "1.5.0",
      "_view_name": "TextView",
      "continuous_update": true,
      "description": "",
      "description_tooltip": null,
      "disabled": false,
      "layout": "IPY_MODEL_ccddecea48ec4394a9ee2f9b70deaec4",
      "placeholder": "​",
      "style": "IPY_MODEL_bf2d50e8056542fa9d022905f2ab73fc",
      "value": "Following data types have been inferred automatically, if they are correct press enter to continue or type 'quit' otherwise."
     }
    }
   }
  }
 },
 "nbformat": 4,
 "nbformat_minor": 1
}
